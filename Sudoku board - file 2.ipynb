{
 "cells": [
  {
   "cell_type": "markdown",
   "id": "d56e93f6",
   "metadata": {},
   "source": [
    "Write a function that looks at the first row of a matrix and checks if it doesnt have the number 1, it places the number 1 where there is a 0 or an empty array."
   ]
  },
  {
   "cell_type": "code",
   "execution_count": 1,
   "id": "fa0f6ec4",
   "metadata": {},
   "outputs": [],
   "source": [
    "import numpy as np"
   ]
  },
  {
   "cell_type": "code",
   "execution_count": 2,
   "id": "f175e343",
   "metadata": {},
   "outputs": [
    {
     "name": "stdout",
     "output_type": "stream",
     "text": [
      "[[0, 0, 0, 0, 0, 0, 0, 0, 0], [0, 0, 0, 0, 0, 0, 0, 0, 0], [0, 0, 0, 0, 0, 0, 0, 0, 0], [0, 0, 0, 0, 0, 0, 0, 0, 0], [0, 0, 0, 0, 0, 0, 0, 0, 0], [0, 0, 0, 0, 0, 0, 0, 0, 0], [0, 0, 0, 0, 0, 0, 0, 0, 0], [0, 0, 0, 0, 0, 0, 0, 0, 0], [0, 0, 0, 0, 0, 0, 0, 0, 0]]\n",
      "\n",
      "Examine properties of array above\n",
      "\n",
      "SHAPE: (9, 9)\n",
      "LENGTH: 9\n",
      "TYPE <class 'list'> \n",
      "\n",
      "[[0 0 0 0 0 0 0 0 0]\n",
      " [0 0 0 0 0 0 0 0 0]\n",
      " [0 0 0 0 0 0 0 0 0]\n",
      " [0 0 0 0 0 0 0 0 0]\n",
      " [0 0 0 0 0 0 0 0 0]\n",
      " [0 0 0 0 0 0 0 0 0]\n",
      " [0 0 0 0 0 0 0 0 0]\n",
      " [0 0 0 0 0 0 0 0 0]\n",
      " [0 0 0 0 0 0 0 0 0]]\n",
      "\n",
      "Examine properties of the matrix above\n",
      "\n",
      "SHAPE: (9, 9)\n",
      "LENGTH: 9\n",
      "TYPE <class 'numpy.matrix'> \n",
      "\n"
     ]
    }
   ],
   "source": [
    "# Initialise empty sudoku board\n",
    "\n",
    "board_array = [ [0,0,0, 0,0,0, 0,0,0],\n",
    "                    [0,0,0, 0,0,0, 0,0,0],\n",
    "                    [0,0,0, 0,0,0, 0,0,0],\n",
    "\n",
    "                    [0,0,0, 0,0,0, 0,0,0],\n",
    "                    [0,0,0, 0,0,0, 0,0,0],\n",
    "                    [0,0,0, 0,0,0, 0,0,0],\n",
    "\n",
    "                    [0,0,0, 0,0,0, 0,0,0],\n",
    "                    [0,0,0, 0,0,0, 0,0,0],\n",
    "                    [0,0,0, 0,0,0, 0,0,0]\n",
    "                    ]\n",
    "\n",
    "print(board_array)\n",
    "print(\"\\nExamine properties of array above\\n\")\n",
    "print(\"SHAPE:\",np.shape(board_array))\n",
    "print(\"LENGTH:\",len(board_array))\n",
    "print(\"TYPE\",type(board_array),\"\\n\")\n",
    "\n",
    "\n",
    "# convert array to matrix using numpy\n",
    "\n",
    "board_matrix = np.asmatrix(board_array)\n",
    "print(board_matrix)\n",
    "print(\"\\nExamine properties of the matrix above\\n\")\n",
    "print(\"SHAPE:\",np.shape(board_matrix))\n",
    "print(\"LENGTH:\",len(board_matrix))\n",
    "print(\"TYPE\",type(board_matrix),\"\\n\")"
   ]
  },
  {
   "cell_type": "code",
   "execution_count": 3,
   "id": "5a4e5f2a",
   "metadata": {},
   "outputs": [
    {
     "name": "stdout",
     "output_type": "stream",
     "text": [
      "[0, 0, 0, 0, 0, 0, 0, 0, 0]\n"
     ]
    }
   ],
   "source": [
    "# Extract the first row of the list above\n",
    "\n",
    "board_array_first_row = board_array[0]\n",
    "\n",
    "print(board_array_first_row)"
   ]
  },
  {
   "cell_type": "code",
   "execution_count": 4,
   "id": "0c453c4c",
   "metadata": {},
   "outputs": [
    {
     "name": "stdout",
     "output_type": "stream",
     "text": [
      "[[0, 2, 3, 4, 5, 6, 7, 8, 9], [0, 0, 0, 0, 0, 0, 0, 0, 0], [0, 0, 0, 0, 0, 0, 0, 0, 0], [0, 0, 0, 0, 0, 0, 0, 0, 0], [0, 0, 0, 0, 0, 0, 0, 0, 0], [0, 0, 0, 0, 0, 0, 0, 0, 0], [0, 0, 0, 0, 0, 0, 0, 0, 0], [0, 0, 0, 0, 0, 0, 0, 0, 0], [0, 0, 0, 0, 0, 0, 0, 0, 0]]\n",
      "[0, 2, 3, 4, 5, 6, 7, 8, 9]\n"
     ]
    }
   ],
   "source": [
    "# Replace the first row with numbers 2 to 9\n",
    "\n",
    "for i in range(len(board_array[0])-1):\n",
    "    board_array[0][i+1]=i+2\n",
    "    \n",
    "print(board_array)\n",
    "print(board_array[0])"
   ]
  },
  {
   "cell_type": "code",
   "execution_count": 5,
   "id": "1db35bc2",
   "metadata": {},
   "outputs": [
    {
     "name": "stdout",
     "output_type": "stream",
     "text": [
      "[[[1], 2, 3, 4, 5, 6, 7, 8, 9], [0, 0, 0, 0, 0, 0, 0, 0, 0], [0, 0, 0, 0, 0, 0, 0, 0, 0], [0, 0, 0, 0, 0, 0, 0, 0, 0], [0, 0, 0, 0, 0, 0, 0, 0, 0], [0, 0, 0, 0, 0, 0, 0, 0, 0], [0, 0, 0, 0, 0, 0, 0, 0, 0], [0, 0, 0, 0, 0, 0, 0, 0, 0], [0, 0, 0, 0, 0, 0, 0, 0, 0]] \n",
      "\n",
      "[[1], 2, 3, 4, 5, 6, 7, 8, 9]\n"
     ]
    }
   ],
   "source": [
    "# If 1 is not in the first row, then replace every 0 or empty array with 1\n",
    "\n",
    "if 1 not in board_array:\n",
    "    if board_array[0][0] == 0 or isinstance(board_array,np.ndarray):\n",
    "        if board_array[0][0] != 1:\n",
    "            board_array[0][0] = [1]\n",
    "            \n",
    "print(board_array,\"\\n\")\n",
    "print(board_array_first_row)"
   ]
  },
  {
   "cell_type": "markdown",
   "id": "748a4c4e",
   "metadata": {},
   "source": [
    "Solve a simple sudoku puzzle!"
   ]
  },
  {
   "cell_type": "code",
   "execution_count": 6,
   "id": "695538de",
   "metadata": {},
   "outputs": [],
   "source": [
    "board_array = [ [5,0,0, 4,6,7, 3,0,9],\n",
    "                [9,0,3, 8,1,0, 4,2,7],\n",
    "                [1,7,4, 2,0,3, 0,0,0],\n",
    "\n",
    "                [2,3,1, 9,7,6, 8,5,4],\n",
    "                [8,5,7, 1,2,4, 0,9,0],\n",
    "                [4,9,6, 3,0,8, 1,7,2],\n",
    "\n",
    "                [0,0,0, 0,8,9, 2,6,0],\n",
    "                [7,8,2, 6,4,1, 0,0,5],\n",
    "                [0,1,0, 0,0,0, 7,0,8]\n",
    "                ]"
   ]
  },
  {
   "cell_type": "code",
   "execution_count": 7,
   "id": "91b1cb5d",
   "metadata": {},
   "outputs": [
    {
     "name": "stdout",
     "output_type": "stream",
     "text": [
      "[4, 9, 6, 3, 0, 8, 1, 7, 2]\n"
     ]
    }
   ],
   "source": [
    "print(board_array[5])"
   ]
  },
  {
   "cell_type": "code",
   "execution_count": 8,
   "id": "4ea423fa",
   "metadata": {},
   "outputs": [
    {
     "data": {
      "text/plain": [
       "True"
      ]
     },
     "execution_count": 8,
     "metadata": {},
     "output_type": "execute_result"
    }
   ],
   "source": [
    "isinstance(board_array, list)"
   ]
  },
  {
   "cell_type": "code",
   "execution_count": 9,
   "id": "b745250b",
   "metadata": {},
   "outputs": [
    {
     "name": "stdout",
     "output_type": "stream",
     "text": [
      "[4, 9, 6, 3, [5], 8, 1, 7, 2]\n"
     ]
    }
   ],
   "source": [
    "board_array = [ [5,0,0, 4,6,7, 3,0,9],\n",
    "                [9,0,3, 8,1,0, 4,2,7],\n",
    "                [1,7,4, 2,0,3, 0,0,0],\n",
    "\n",
    "                [2,3,1, 9,7,6, 8,5,4],\n",
    "                [8,5,7, 1,2,4, 0,9,0],\n",
    "                [4,9,6, 3,0,8, 1,7,2],\n",
    "\n",
    "                [0,0,0, 0,8,9, 2,6,0],\n",
    "                [7,8,2, 6,4,1, 0,0,5],\n",
    "                [0,1,0, 0,0,0, 7,0,8]\n",
    "                ]\n",
    "\n",
    "if 5 not in board_array[5]:\n",
    "    if board_array[5][4] == 0:\n",
    "        if board_array[5][4] != 5:\n",
    "            board_array[5][4] = []\n",
    "            board_array[5][4].append(5)\n",
    "    elif isinstance(board_array[5][4],list) and 5 not in board_array[5][4]:\n",
    "        board_array[5][4].append(5)\n",
    "\n",
    "        \n",
    "#print(np.matrix(board_array),\"\\n\")\n",
    "print(board_array[5])"
   ]
  },
  {
   "cell_type": "markdown",
   "id": "c5065e45",
   "metadata": {},
   "source": [
    "Create a function that takes in a list - the sudoku board array, and outputs another list - the sudoku board array but with all the possibilities in the empty spaces.\n",
    "\n",
    "Q - What does the function do?\n",
    "It takes in row by row and checks if the numbers from 1 to 9 are in the row, and if they are not, adds them to the empty spaces."
   ]
  },
  {
   "cell_type": "code",
   "execution_count": 10,
   "id": "f09548ea",
   "metadata": {},
   "outputs": [
    {
     "name": "stdout",
     "output_type": "stream",
     "text": [
      "[[5, [1, 2, 8], [1, 2, 8], 4, 6, 7, 3, [1, 2, 8], 9], [9, [5, 6], 3, 8, 1, [5, 6], 4, 2, 7], [1, 7, 4, 2, [5, 6, 8, 9], 3, [5, 6, 8, 9], [5, 6, 8, 9], [5, 6, 8, 9]], [2, 3, 1, 9, 7, 6, 8, 5, 4], [8, 5, 7, 1, 2, 4, [3, 6], 9, [3, 6]], [4, 9, 6, 3, [5], 8, 1, 7, 2], [[1, 3, 4, 5, 7], [1, 3, 4, 5, 7], [1, 3, 4, 5, 7], [1, 3, 4, 5, 7], 8, 9, 2, 6, [1, 3, 4, 5, 7]], [7, 8, 2, 6, 4, 1, [3, 9], [3, 9], 5], [[2, 3, 4, 5, 6, 9], 1, [2, 3, 4, 5, 6, 9], [2, 3, 4, 5, 6, 9], [2, 3, 4, 5, 6, 9], [2, 3, 4, 5, 6, 9], 7, [2, 3, 4, 5, 6, 9], 8]] \n",
      "\n"
     ]
    }
   ],
   "source": [
    "board_array = [ [5,0,0, 4,6,7, 3,0,9],\n",
    "                [9,0,3, 8,1,0, 4,2,7],\n",
    "                [1,7,4, 2,0,3, 0,0,0],\n",
    "\n",
    "                [2,3,1, 9,7,6, 8,5,4],\n",
    "                [8,5,7, 1,2,4, 0,9,0],\n",
    "                [4,9,6, 3,0,8, 1,7,2],\n",
    "\n",
    "                [0,0,0, 0,8,9, 2,6,0],\n",
    "                [7,8,2, 6,4,1, 0,0,5],\n",
    "                [0,1,0, 0,0,0, 7,0,8]\n",
    "                ]\n",
    "\n",
    "for i in range(1,10):\n",
    "    for j in range(1,10):\n",
    "        if i not in board_array[j-1]:\n",
    "            for k in range(1,10):\n",
    "                if board_array[j-1][k-1] == 0:\n",
    "                    if board_array[j-1][k-1] != i:\n",
    "                        board_array[j-1][k-1] = []\n",
    "                        board_array[j-1][k-1].append(i)\n",
    "                elif isinstance(board_array[j-1][k-1],list) and i not in board_array[j-1][k-1]:\n",
    "                    board_array[j-1][k-1].append(i)\n",
    "                    \n",
    "print(board_array,\"\\n\")\n",
    "#print(np.array(board_array))"
   ]
  },
  {
   "cell_type": "code",
   "execution_count": 11,
   "id": "4fe68eeb",
   "metadata": {},
   "outputs": [
    {
     "name": "stdout",
     "output_type": "stream",
     "text": [
      "[5 9 1 2 8 4 0 7 0]\n",
      "[[5, 0, 0, 4, 6, 7, 3, 0, 9], [9, 0, 3, 8, 1, 0, 4, 2, 7], [1, 7, 4, 2, 0, 3, 0, 0, 0], [2, 3, 1, 9, 7, 6, 8, 5, 4], [8, 5, 7, 1, 2, 4, 0, 9, 0], [4, 9, 6, 3, 0, 8, 1, 7, 2], [[3], 0, 0, 0, 8, 9, 2, 6, 0], [7, 8, 2, 6, 4, 1, 0, 0, 5], [0, 1, 0, 0, 0, 0, 7, 0, 8]]\n"
     ]
    }
   ],
   "source": [
    "board_array = [ [5,0,0, 4,6,7, 3,0,9],\n",
    "                [9,0,3, 8,1,0, 4,2,7],\n",
    "                [1,7,4, 2,0,3, 0,0,0],\n",
    "\n",
    "                [2,3,1, 9,7,6, 8,5,4],\n",
    "                [8,5,7, 1,2,4, 0,9,0],\n",
    "                [4,9,6, 3,0,8, 1,7,2],\n",
    "\n",
    "                [0,0,0, 0,8,9, 2,6,0],\n",
    "                [7,8,2, 6,4,1, 0,0,5],\n",
    "                [0,1,0, 0,0,0, 7,0,8]\n",
    "                ]\n",
    "\n",
    "print(np.array(board_array)[:,0])\n",
    "\n",
    "if 3 not in np.array(board_array)[:,0]:\n",
    "    if board_array[6][0] == 0:\n",
    "        board_array[6][0] = []\n",
    "        board_array[6][0].append(3)\n",
    "    elif isinstance(board_array[6][0],list) and 3 not in board_array[6][0]:\n",
    "        board_array[6][0].append(3)\n",
    "\n",
    "print(board_array)\n",
    "\n",
    "# if 5 not in board_array[5]:\n",
    "#     if board_array[5][4] == 0:\n",
    "#         if board_array[5][4] != 5:\n",
    "#             board_array[5][4] = []\n",
    "#             board_array[5][4].append(5)\n",
    "#     elif isinstance(board_array[5][4],list) and 5 not in board_array[5][4]:\n",
    "#         board_array[5][4].append(5)\n",
    "\n",
    "# for i in range(1,10):\n",
    "#     for j in range(1,10):\n",
    "#         if i not in board_array[j-1]:\n",
    "#             for k in range(1,10):\n",
    "#                 if board_array[j-1][k-1] == 0:\n",
    "#                     if board_array[j-1][k-1] != i:\n",
    "#                         board_array[j-1][k-1] = []\n",
    "#                         board_array[j-1][k-1].append(i)\n",
    "#                 elif isinstance(board_array[j-1][k-1],list):\n",
    "#                     board_array[j-1][k-1].append(i)"
   ]
  },
  {
   "cell_type": "markdown",
   "id": "39d2de21",
   "metadata": {},
   "source": [
    "NEXT: Add statements row and column ifs together before adding a number to the list of possibilities.\n",
    "An example of the logic is this: if the number 3 does not appear in the row, AND the number 3 does not appear in the column, then append in to the list."
   ]
  },
  {
   "cell_type": "code",
   "execution_count": 12,
   "id": "927ef9ea",
   "metadata": {},
   "outputs": [
    {
     "name": "stdout",
     "output_type": "stream",
     "text": [
      "[[5 0 0 4 6 7 3 0 9]\n",
      " [9 0 3 8 1 0 4 2 7]\n",
      " [1 7 4 2 0 3 0 0 0]\n",
      " [2 3 1 9 7 6 8 5 4]\n",
      " [8 5 7 1 2 4 0 9 0]\n",
      " [4 9 6 3 0 8 1 7 2]\n",
      " [0 0 0 0 8 9 2 6 0]\n",
      " [7 8 2 6 4 1 0 0 5]\n",
      " [0 1 0 0 0 0 7 0 8]]\n"
     ]
    }
   ],
   "source": [
    "board_array = [ [5,0,0, 4,6,7, 3,0,9],\n",
    "                [9,0,3, 8,1,0, 4,2,7],\n",
    "                [1,7,4, 2,0,3, 0,0,0],\n",
    "\n",
    "                [2,3,1, 9,7,6, 8,5,4],\n",
    "                [8,5,7, 1,2,4, 0,9,0],\n",
    "                [4,9,6, 3,0,8, 1,7,2],\n",
    "\n",
    "                [0,0,0, 0,8,9, 2,6,0],\n",
    "                [7,8,2, 6,4,1, 0,0,5],\n",
    "                [0,1,0, 0,0,0, 7,0,8]\n",
    "                ]\n",
    "\n",
    "if 2 not in board_array[0] and 2 not in np.array(board_array)[:,7]:\n",
    "    if board_array[0][7] == 0:\n",
    "        board_array[0][7] = []\n",
    "        board_array[0][7].append(2)\n",
    "    elif isinstance(board_array[0][7],list) and 2 not in board_array[0][7]:\n",
    "        board_array[0][7].append(2)\n",
    "\n",
    "print(np.array(board_array))\n",
    "\n",
    "#it works! - if you like contrast this without adding the AND statement by uncommenting the following piece of code:\n",
    "# if 2 not in board_array[0] :#(and 2 not in np.array(board_array)[:,7]:)\n",
    "#     if board_array[0][7] == 0:\n",
    "#         board_array[0][7] = []\n",
    "#         board_array[0][7].append(2)\n",
    "#     elif isinstance(board_array[0][7],list) and 2 not in board_array[0][7]:\n",
    "#         board_array[0][7].append(2)"
   ]
  },
  {
   "cell_type": "markdown",
   "id": "8fa3c402",
   "metadata": {},
   "source": [
    "Now onto the next challenge - create an if statement to add a number to the list of possibilities, if the number is not contained in the 3x3 box."
   ]
  },
  {
   "cell_type": "code",
   "execution_count": 13,
   "id": "6806164f",
   "metadata": {},
   "outputs": [
    {
     "name": "stdout",
     "output_type": "stream",
     "text": [
      "[[5 0 0]\n",
      " [9 0 3]\n",
      " [1 7 4]]\n"
     ]
    }
   ],
   "source": [
    "board_array = [ [5,0,0, 4,6,7, 3,0,9],\n",
    "                [9,0,3, 8,1,0, 4,2,7],\n",
    "                [1,7,4, 2,0,3, 0,0,0],\n",
    "\n",
    "                [2,3,1, 9,7,6, 8,5,4],\n",
    "                [8,5,7, 1,2,4, 0,9,0],\n",
    "                [4,9,6, 3,0,8, 1,7,2],\n",
    "\n",
    "                [0,0,0, 0,8,9, 2,6,0],\n",
    "                [7,8,2, 6,4,1, 0,0,5],\n",
    "                [0,1,0, 0,0,0, 7,0,8]\n",
    "                ]\n",
    "\n",
    "print(np.array(board_array)[0:3,0:3])"
   ]
  },
  {
   "cell_type": "code",
   "execution_count": 14,
   "id": "15fc278c",
   "metadata": {},
   "outputs": [
    {
     "data": {
      "text/plain": [
       "True"
      ]
     },
     "execution_count": 14,
     "metadata": {},
     "output_type": "execute_result"
    }
   ],
   "source": [
    "5 in np.array(board_array)[0:3,0:3]"
   ]
  },
  {
   "cell_type": "code",
   "execution_count": 15,
   "id": "2199ccbd",
   "metadata": {},
   "outputs": [
    {
     "data": {
      "text/plain": [
       "False"
      ]
     },
     "execution_count": 15,
     "metadata": {},
     "output_type": "execute_result"
    }
   ],
   "source": [
    "2 in np.array(board_array)[0:3,0:3]"
   ]
  },
  {
   "cell_type": "code",
   "execution_count": 16,
   "id": "63446fac",
   "metadata": {
    "scrolled": true
   },
   "outputs": [
    {
     "name": "stdout",
     "output_type": "stream",
     "text": [
      "[[3 0 9]\n",
      " [4 2 7]\n",
      " [0 0 0]]\n"
     ]
    }
   ],
   "source": [
    "print(np.array(board_array)[0:3,6:9])"
   ]
  },
  {
   "cell_type": "code",
   "execution_count": 17,
   "id": "54d08653",
   "metadata": {},
   "outputs": [
    {
     "data": {
      "text/plain": [
       "True"
      ]
     },
     "execution_count": 17,
     "metadata": {},
     "output_type": "execute_result"
    }
   ],
   "source": [
    "1 not in np.array(board_array)[0:3,6:9]"
   ]
  },
  {
   "cell_type": "code",
   "execution_count": 18,
   "id": "63be75d6",
   "metadata": {},
   "outputs": [
    {
     "name": "stdout",
     "output_type": "stream",
     "text": [
      "before: 0\n",
      "\n",
      "after [1]\n"
     ]
    }
   ],
   "source": [
    "board_array = [ [5,0,0, 4,6,7, 3,0,9],\n",
    "                [9,0,3, 8,1,0, 4,2,7],\n",
    "                [1,7,4, 2,0,3, 0,0,0],\n",
    "\n",
    "                [2,3,1, 9,7,6, 8,5,4],\n",
    "                [8,5,7, 1,2,4, 0,9,0],\n",
    "                [4,9,6, 3,0,8, 1,7,2],\n",
    "\n",
    "                [0,0,0, 0,8,9, 2,6,0],\n",
    "                [7,8,2, 6,4,1, 0,0,5],\n",
    "                [0,1,0, 0,0,0, 7,0,8]\n",
    "                ]\n",
    "\n",
    "print(\"before:\",board_array[0][7])\n",
    "\n",
    "if 1 not in np.array(board_array)[0:3,6:9]:\n",
    "    if board_array[0][7] == 0:\n",
    "        board_array[0][7] = []\n",
    "        board_array[0][7].append(1)\n",
    "    elif isinstance(board_array[0][7],list) and 1 not in board_array[0][7]:\n",
    "        board_array[0][7].append(1)\n",
    "\n",
    "print(\"\\nafter\",board_array[0][7])\n",
    "#print(np.array(board_array))"
   ]
  },
  {
   "cell_type": "markdown",
   "id": "a6ee86e4",
   "metadata": {},
   "source": [
    "now the challenge - figuring out how to design a loop that looks through all 9 3x3 squares and fills in all the possibilities"
   ]
  },
  {
   "cell_type": "code",
   "execution_count": 29,
   "id": "ab161b9d",
   "metadata": {},
   "outputs": [
    {
     "name": "stdout",
     "output_type": "stream",
     "text": [
      "\n",
      "1 [[5 0 0]\n",
      " [9 0 3]\n",
      " [1 7 4]]\n",
      "\n",
      "2 [[4 6 7]\n",
      " [8 1 0]\n",
      " [2 0 3]]\n",
      "\n",
      "3 [[3 0 9]\n",
      " [4 2 7]\n",
      " [0 0 0]]\n",
      "\n",
      "4 [[2 3 1]\n",
      " [8 5 7]\n",
      " [4 9 6]]\n",
      "\n",
      "5 [[9 7 6]\n",
      " [1 2 4]\n",
      " [3 0 8]]\n",
      "\n",
      "6 [[8 5 4]\n",
      " [0 9 0]\n",
      " [1 7 2]]\n",
      "\n",
      "7 [[0 0 0]\n",
      " [7 8 2]\n",
      " [0 1 0]]\n",
      "\n",
      "8 [[0 8 9]\n",
      " [6 4 1]\n",
      " [0 0 0]]\n",
      "\n",
      "9 [[2 6 0]\n",
      " [0 0 5]\n",
      " [7 0 8]]\n"
     ]
    }
   ],
   "source": [
    "board_array = [ [5,0,0, 4,6,7, 3,0,9],\n",
    "                [9,0,3, 8,1,0, 4,2,7],\n",
    "                [1,7,4, 2,0,3, 0,0,0],\n",
    "\n",
    "                [2,3,1, 9,7,6, 8,5,4],\n",
    "                [8,5,7, 1,2,4, 0,9,0],\n",
    "                [4,9,6, 3,0,8, 1,7,2],\n",
    "\n",
    "                [0,0,0, 0,8,9, 2,6,0],\n",
    "                [7,8,2, 6,4,1, 0,0,5],\n",
    "                [0,1,0, 0,0,0, 7,0,8]\n",
    "                ]\n",
    "\n",
    "# list all the squares:\n",
    "\n",
    "print(\"\\n1\",np.array(board_array)[0:3,0:3])\n",
    "print(\"\\n2\",np.array(board_array)[0:3,3:6])\n",
    "print(\"\\n3\",np.array(board_array)[0:3,6:9])\n",
    "print(\"\\n4\",np.array(board_array)[3:6,0:3])\n",
    "print(\"\\n5\",np.array(board_array)[3:6,3:6])\n",
    "print(\"\\n6\",np.array(board_array)[3:6,6:9])\n",
    "print(\"\\n7\",np.array(board_array)[6:9,0:3])\n",
    "print(\"\\n8\",np.array(board_array)[6:9,3:6])\n",
    "print(\"\\n9\",np.array(board_array)[6:9,6:9])"
   ]
  },
  {
   "cell_type": "code",
   "execution_count": 37,
   "id": "af0f4e5f",
   "metadata": {},
   "outputs": [
    {
     "name": "stdout",
     "output_type": "stream",
     "text": [
      "\n",
      " [[5 0 0]\n",
      " [9 0 3]\n",
      " [1 7 4]]\n",
      "\n",
      " [[4 6 7]\n",
      " [8 1 0]\n",
      " [2 0 3]]\n",
      "\n",
      " [[3 0 9]\n",
      " [4 2 7]\n",
      " [0 0 0]]\n",
      "\n",
      " [[2 3 1]\n",
      " [8 5 7]\n",
      " [4 9 6]]\n",
      "\n",
      " [[9 7 6]\n",
      " [1 2 4]\n",
      " [3 0 8]]\n",
      "\n",
      " [[8 5 4]\n",
      " [0 9 0]\n",
      " [1 7 2]]\n",
      "\n",
      " [[0 0 0]\n",
      " [7 8 2]\n",
      " [0 1 0]]\n",
      "\n",
      " [[0 8 9]\n",
      " [6 4 1]\n",
      " [0 0 0]]\n",
      "\n",
      " [[2 6 0]\n",
      " [0 0 5]\n",
      " [7 0 8]]\n"
     ]
    }
   ],
   "source": [
    "board_array = [ [5,0,0, 4,6,7, 3,0,9],\n",
    "                [9,0,3, 8,1,0, 4,2,7],\n",
    "                [1,7,4, 2,0,3, 0,0,0],\n",
    "\n",
    "                [2,3,1, 9,7,6, 8,5,4],\n",
    "                [8,5,7, 1,2,4, 0,9,0],\n",
    "                [4,9,6, 3,0,8, 1,7,2],\n",
    "\n",
    "                [0,0,0, 0,8,9, 2,6,0],\n",
    "                [7,8,2, 6,4,1, 0,0,5],\n",
    "                [0,1,0, 0,0,0, 7,0,8]\n",
    "                ]\n",
    "\n",
    "for i in [0,3,6]:\n",
    "    for j in [0,3,6]:\n",
    "            print(\"\\n\", np.array(board_array)[i:i+3,j:j+3])"
   ]
  },
  {
   "cell_type": "markdown",
   "id": "ce5eb23b",
   "metadata": {},
   "source": [
    "Figure out the logic in words for how the squares:\n",
    "\n",
    "If 1 is not in the first place (i.e. list place [0][0]), then check if 1 exists in the first 3x3 box [0:3][0:3], and if not, place 1 in the [0][0] position.\n",
    "\n",
    "Question: How do we get the box range without hard coding it?\n",
    "\n",
    "Answer: From the position of the number\n",
    "\n",
    "For example:\n",
    "if row is in range 0-2 and column is 0-2, then box is [0:3][0:3].\n",
    "if row is in range 6-8 and column is 3-5, then box is [6:9][3:6]."
   ]
  },
  {
   "cell_type": "code",
   "execution_count": 22,
   "id": "d4ffa195",
   "metadata": {},
   "outputs": [
    {
     "name": "stdout",
     "output_type": "stream",
     "text": [
      "before: 0\n",
      "\n",
      "after [1]\n",
      "\n",
      " [[5 0 0 4 6 7 3 list([1]) 9]\n",
      " [9 0 3 8 1 0 4 2 7]\n",
      " [1 7 4 2 0 3 0 0 0]\n",
      " [2 3 1 9 7 6 8 5 4]\n",
      " [8 5 7 1 2 4 0 9 0]\n",
      " [4 9 6 3 0 8 1 7 2]\n",
      " [0 0 0 0 8 9 2 6 0]\n",
      " [7 8 2 6 4 1 0 0 5]\n",
      " [0 1 0 0 0 0 7 0 8]]\n"
     ]
    },
    {
     "name": "stderr",
     "output_type": "stream",
     "text": [
      "C:\\Users\\Daniel\\AppData\\Local\\Temp\\ipykernel_10908\\1993714519.py:24: VisibleDeprecationWarning: Creating an ndarray from ragged nested sequences (which is a list-or-tuple of lists-or-tuples-or ndarrays with different lengths or shapes) is deprecated. If you meant to do this, you must specify 'dtype=object' when creating the ndarray.\n",
      "  print(\"\\n\",np.array(board_array))\n"
     ]
    }
   ],
   "source": [
    "board_array = [ [5,0,0, 4,6,7, 3,0,9],\n",
    "                [9,0,3, 8,1,0, 4,2,7],\n",
    "                [1,7,4, 2,0,3, 0,0,0],\n",
    "\n",
    "                [2,3,1, 9,7,6, 8,5,4],\n",
    "                [8,5,7, 1,2,4, 0,9,0],\n",
    "                [4,9,6, 3,0,8, 1,7,2],\n",
    "\n",
    "                [0,0,0, 0,8,9, 2,6,0],\n",
    "                [7,8,2, 6,4,1, 0,0,5],\n",
    "                [0,1,0, 0,0,0, 7,0,8]\n",
    "                ]\n",
    "\n",
    "print(\"before:\",board_array[0][7])\n",
    "\n",
    "if 1 not in np.array(board_array)[0:3,6:9]:\n",
    "    if board_array[0][7] == 0:\n",
    "        board_array[0][7] = []\n",
    "        board_array[0][7].append(1)\n",
    "    elif isinstance(board_array[0][7],list) and 1 not in board_array[0][7]:\n",
    "        board_array[0][7].append(1)\n",
    "\n",
    "print(\"\\nafter\",board_array[0][7])\n",
    "print(\"\\n\",np.array(board_array))"
   ]
  },
  {
   "cell_type": "code",
   "execution_count": 23,
   "id": "0372478e",
   "metadata": {},
   "outputs": [
    {
     "name": "stdout",
     "output_type": "stream",
     "text": [
      "[[5 list([2, 6, 8]) list([2, 6, 8]) 4 6 7 3 0 9]\n",
      " [9 list([2, 6, 8]) 3 8 1 0 4 2 7]\n",
      " [1 7 4 2 0 3 0 0 0]\n",
      " [2 3 1 9 7 6 8 5 4]\n",
      " [8 5 7 1 2 4 0 9 0]\n",
      " [4 9 6 3 0 8 1 7 2]\n",
      " [0 0 0 0 8 9 2 6 0]\n",
      " [7 8 2 6 4 1 0 0 5]\n",
      " [0 1 0 0 0 0 7 0 8]]\n"
     ]
    },
    {
     "name": "stderr",
     "output_type": "stream",
     "text": [
      "C:\\Users\\Daniel\\AppData\\Local\\Temp\\ipykernel_10908\\110351542.py:21: VisibleDeprecationWarning: Creating an ndarray from ragged nested sequences (which is a list-or-tuple of lists-or-tuples-or ndarrays with different lengths or shapes) is deprecated. If you meant to do this, you must specify 'dtype=object' when creating the ndarray.\n",
      "  if i not in np.array(board_array)[0:3,0:3]:\n",
      "C:\\Users\\Daniel\\AppData\\Local\\Temp\\ipykernel_10908\\110351542.py:30: VisibleDeprecationWarning: Creating an ndarray from ragged nested sequences (which is a list-or-tuple of lists-or-tuples-or ndarrays with different lengths or shapes) is deprecated. If you meant to do this, you must specify 'dtype=object' when creating the ndarray.\n",
      "  print(np.array(board_array))\n"
     ]
    }
   ],
   "source": [
    "board_array = [ [5,0,0, 4,6,7, 3,0,9],\n",
    "                [9,0,3, 8,1,0, 4,2,7],\n",
    "                [1,7,4, 2,0,3, 0,0,0],\n",
    "\n",
    "                [2,3,1, 9,7,6, 8,5,4],\n",
    "                [8,5,7, 1,2,4, 0,9,0],\n",
    "                [4,9,6, 3,0,8, 1,7,2],\n",
    "\n",
    "                [0,0,0, 0,8,9, 2,6,0],\n",
    "                [7,8,2, 6,4,1, 0,0,5],\n",
    "                [0,1,0, 0,0,0, 7,0,8]\n",
    "                ]\n",
    "\n",
    "\n",
    "#number\n",
    "for i in range(1,10):\n",
    "    #row\n",
    "    for j in range(3):\n",
    "        #column\n",
    "        for k in range(3):\n",
    "            if i not in np.array(board_array)[0:3,0:3]:\n",
    "                if board_array[j][k] == 0:\n",
    "                    if board_array[j][k] != i:\n",
    "                        board_array[j][k] = []\n",
    "                        board_array[j][k].append(i)\n",
    "                elif isinstance(board_array[j][k],list) and i not in board_array[j][k]:\n",
    "                    board_array[j][k].append(i)\n",
    "                    \n",
    "#print(board_array,\"\\n\")\n",
    "print(np.array(board_array))"
   ]
  },
  {
   "cell_type": "code",
   "execution_count": 27,
   "id": "0904bca2",
   "metadata": {},
   "outputs": [
    {
     "name": "stdout",
     "output_type": "stream",
     "text": [
      "[[5 list([2, 6, 8]) list([2, 6, 8]) 4 6 7 3 0 9]\n",
      " [9 list([2, 6, 8]) 3 8 1 0 4 2 7]\n",
      " [1 7 4 2 0 3 0 0 0]\n",
      " [2 3 1 9 7 6 8 5 4]\n",
      " [8 5 7 1 2 4 0 9 0]\n",
      " [4 9 6 3 0 8 1 7 2]\n",
      " [0 0 0 0 8 9 2 6 0]\n",
      " [7 8 2 6 4 1 0 0 5]\n",
      " [0 1 0 0 0 0 7 0 8]]\n"
     ]
    },
    {
     "name": "stderr",
     "output_type": "stream",
     "text": [
      "C:\\Users\\Daniel\\AppData\\Local\\Temp\\ipykernel_10908\\202945296.py:25: VisibleDeprecationWarning: Creating an ndarray from ragged nested sequences (which is a list-or-tuple of lists-or-tuples-or ndarrays with different lengths or shapes) is deprecated. If you meant to do this, you must specify 'dtype=object' when creating the ndarray.\n",
      "  if i not in np.array(board_array)[0:3,0:3]:\n",
      "C:\\Users\\Daniel\\AppData\\Local\\Temp\\ipykernel_10908\\202945296.py:43: VisibleDeprecationWarning: Creating an ndarray from ragged nested sequences (which is a list-or-tuple of lists-or-tuples-or ndarrays with different lengths or shapes) is deprecated. If you meant to do this, you must specify 'dtype=object' when creating the ndarray.\n",
      "  print(np.array(board_array))\n"
     ]
    }
   ],
   "source": [
    "board_array = [ [5,0,0, 4,6,7, 3,0,9],\n",
    "                [9,0,3, 8,1,0, 4,2,7],\n",
    "                [1,7,4, 2,0,3, 0,0,0],\n",
    "\n",
    "                [2,3,1, 9,7,6, 8,5,4],\n",
    "                [8,5,7, 1,2,4, 0,9,0],\n",
    "                [4,9,6, 3,0,8, 1,7,2],\n",
    "\n",
    "                [0,0,0, 0,8,9, 2,6,0],\n",
    "                [7,8,2, 6,4,1, 0,0,5],\n",
    "                [0,1,0, 0,0,0, 7,0,8]\n",
    "                ]\n",
    "\n",
    "\n",
    "#number\n",
    "for i in range(1,10):\n",
    "    #row\n",
    "    for j in range(9):\n",
    "        #column\n",
    "        for k in range(9):\n",
    "            for m in range(9):\n",
    "                for n in range(9):\n",
    "                    #if m <= 3 and n <=3 and j <=3 and k <= 3:\n",
    "                    if all(p <= 3 for p in [j,k,m,n]):\n",
    "                        if i not in np.array(board_array)[0:3,0:3]:\n",
    "                            if board_array[j][k] == 0:\n",
    "                                if board_array[j][k] != i:\n",
    "                                    board_array[j][k] = []\n",
    "                                    board_array[j][k].append(i)\n",
    "                            elif isinstance(board_array[j][k],list) and i not in board_array[j][k]:\n",
    "                                board_array[j][k].append(i)\n",
    "#                     if m <= 3 and n <=3:\n",
    "#                         if i not in np.array(board_array)[0:3,0:3]:\n",
    "#                             if board_array[j][k] == 0:\n",
    "#                                 if board_array[j][k] != i:\n",
    "#                                     board_array[j][k] = []\n",
    "#                                     board_array[j][k].append(i)\n",
    "#                             elif isinstance(board_array[j][k],list) and i not in board_array[j][k]:\n",
    "#                                 board_array[j][k].append(i)\n",
    "                                \n",
    "                             \n",
    "#print(board_array,\"\\n\")\n",
    "print(np.array(board_array))"
   ]
  },
  {
   "cell_type": "code",
   "execution_count": 41,
   "id": "a146c33e",
   "metadata": {},
   "outputs": [
    {
     "name": "stderr",
     "output_type": "stream",
     "text": [
      "C:\\Users\\Daniel\\AppData\\Local\\Temp\\ipykernel_10908\\248257696.py:24: VisibleDeprecationWarning: Creating an ndarray from ragged nested sequences (which is a list-or-tuple of lists-or-tuples-or ndarrays with different lengths or shapes) is deprecated. If you meant to do this, you must specify 'dtype=object' when creating the ndarray.\n",
      "  print(np.array(board_array))\n",
      "C:\\Users\\Daniel\\AppData\\Local\\Temp\\ipykernel_10908\\248257696.py:19: VisibleDeprecationWarning: Creating an ndarray from ragged nested sequences (which is a list-or-tuple of lists-or-tuples-or ndarrays with different lengths or shapes) is deprecated. If you meant to do this, you must specify 'dtype=object' when creating the ndarray.\n",
      "  if i not in np.array(board_array)[m:m+3,n:n+3]:\n"
     ]
    },
    {
     "name": "stdout",
     "output_type": "stream",
     "text": [
      "[[5 0 0 4 6 7 3 0 9]\n",
      " [9 0 3 8 1 0 4 2 7]\n",
      " [1 7 4 2 0 3 0 0 0]\n",
      " [2 3 1 9 7 6 8 5 4]\n",
      " [8 5 7 1 2 4 0 9 0]\n",
      " [4 9 6 3 0 8 1 7 2]\n",
      " [0 0 0 0 8 9 2 6 0]\n",
      " [7 8 2 6 4 1 0 0 5]\n",
      " [0 1 0 0 0 0 7 0 list([2])]]\n",
      "[[5 0 0 4 6 7 3 0 9]\n",
      " [9 0 3 8 1 0 4 2 7]\n",
      " [1 7 4 2 0 3 0 0 0]\n",
      " [2 3 1 9 7 6 8 5 4]\n",
      " [8 5 7 1 2 4 0 9 0]\n",
      " [4 9 6 3 0 8 1 7 2]\n",
      " [0 0 0 0 8 9 2 6 0]\n",
      " [7 8 2 6 4 1 0 0 5]\n",
      " [0 1 0 0 0 0 7 0 list([3])]]\n",
      "[[5 0 0 4 6 7 3 0 9]\n",
      " [9 0 3 8 1 0 4 2 7]\n",
      " [1 7 4 2 0 3 0 0 0]\n",
      " [2 3 1 9 7 6 8 5 4]\n",
      " [8 5 7 1 2 4 0 9 0]\n",
      " [4 9 6 3 0 8 1 7 2]\n",
      " [0 0 0 0 8 9 2 6 0]\n",
      " [7 8 2 6 4 1 0 0 5]\n",
      " [0 1 0 0 0 0 7 0 list([3])]]\n"
     ]
    },
    {
     "ename": "IndexError",
     "evalue": "list index out of range",
     "output_type": "error",
     "traceback": [
      "\u001b[1;31m---------------------------------------------------------------------------\u001b[0m",
      "\u001b[1;31mIndexError\u001b[0m                                Traceback (most recent call last)",
      "Input \u001b[1;32mIn [41]\u001b[0m, in \u001b[0;36m<cell line: 16>\u001b[1;34m()\u001b[0m\n\u001b[0;32m     18\u001b[0m \u001b[38;5;28;01mfor\u001b[39;00m n \u001b[38;5;129;01min\u001b[39;00m [\u001b[38;5;241m0\u001b[39m,\u001b[38;5;241m3\u001b[39m,\u001b[38;5;241m6\u001b[39m]:\n\u001b[0;32m     19\u001b[0m     \u001b[38;5;28;01mif\u001b[39;00m i \u001b[38;5;129;01mnot\u001b[39;00m \u001b[38;5;129;01min\u001b[39;00m np\u001b[38;5;241m.\u001b[39marray(board_array)[m:m\u001b[38;5;241m+\u001b[39m\u001b[38;5;241m3\u001b[39m,n:n\u001b[38;5;241m+\u001b[39m\u001b[38;5;241m3\u001b[39m]:\n\u001b[1;32m---> 20\u001b[0m         \u001b[38;5;28;01mif\u001b[39;00m \u001b[43mboard_array\u001b[49m\u001b[43m[\u001b[49m\u001b[43mm\u001b[49m\u001b[38;5;241;43m+\u001b[39;49m\u001b[43mi\u001b[49m\u001b[38;5;241;43m-\u001b[39;49m\u001b[38;5;241;43m1\u001b[39;49m\u001b[43m]\u001b[49m[n\u001b[38;5;241m+\u001b[39mi\u001b[38;5;241m-\u001b[39m\u001b[38;5;241m1\u001b[39m] \u001b[38;5;241m==\u001b[39m \u001b[38;5;241m0\u001b[39m:\n\u001b[0;32m     21\u001b[0m             \u001b[38;5;28;01mif\u001b[39;00m board_array[m\u001b[38;5;241m+\u001b[39mi\u001b[38;5;241m-\u001b[39m\u001b[38;5;241m1\u001b[39m][n\u001b[38;5;241m+\u001b[39mi\u001b[38;5;241m-\u001b[39m\u001b[38;5;241m1\u001b[39m] \u001b[38;5;241m!=\u001b[39m i:\n\u001b[0;32m     22\u001b[0m                 board_array[j][k] \u001b[38;5;241m=\u001b[39m []\n",
      "\u001b[1;31mIndexError\u001b[0m: list index out of range"
     ]
    }
   ],
   "source": [
    "board_array = [ [5,0,0, 4,6,7, 3,0,9],\n",
    "                [9,0,3, 8,1,0, 4,2,7],\n",
    "                [1,7,4, 2,0,3, 0,0,0],\n",
    "\n",
    "                [2,3,1, 9,7,6, 8,5,4],\n",
    "                [8,5,7, 1,2,4, 0,9,0],\n",
    "                [4,9,6, 3,0,8, 1,7,2],\n",
    "\n",
    "                [0,0,0, 0,8,9, 2,6,0],\n",
    "                [7,8,2, 6,4,1, 0,0,5],\n",
    "                [0,1,0, 0,0,0, 7,0,8]\n",
    "                ]\n",
    "\n",
    "\n",
    "#number\n",
    "for i in range(2):\n",
    "    #row\n",
    "    for j in range(9):\n",
    "        #column\n",
    "        for k in range(9):\n",
    "            for m in [0,3,6]:\n",
    "                for n in [0,3,6]:\n",
    "                    if i not in np.array(board_array)[m:m+3,n:n+3]:\n",
    "                        if board_array[j][k] == 0:\n",
    "                            if board_array[j][k] != i:\n",
    "                                board_array[j][k] = []\n",
    "                                board_array[j][k].append(i)\n",
    "                                print(np.array(board_array))\n",
    "                        elif isinstance(board_array[j][k],list) and i not in board_array[j][k]:\n",
    "                            board_array[j][k].append(i)\n",
    "                    \n",
    "#print(board_array,\"\\n\")\n",
    "print(np.array(board_array))"
   ]
  },
  {
   "cell_type": "code",
   "execution_count": null,
   "id": "d375f8e4",
   "metadata": {},
   "outputs": [],
   "source": []
  }
 ],
 "metadata": {
  "kernelspec": {
   "display_name": "Python 3 (ipykernel)",
   "language": "python",
   "name": "python3"
  },
  "language_info": {
   "codemirror_mode": {
    "name": "ipython",
    "version": 3
   },
   "file_extension": ".py",
   "mimetype": "text/x-python",
   "name": "python",
   "nbconvert_exporter": "python",
   "pygments_lexer": "ipython3",
   "version": "3.9.12"
  }
 },
 "nbformat": 4,
 "nbformat_minor": 5
}
