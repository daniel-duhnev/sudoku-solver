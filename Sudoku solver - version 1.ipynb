{
 "cells": [
  {
   "cell_type": "markdown",
   "id": "381bcc23",
   "metadata": {},
   "source": [
    "### Sudoku solver - version 1\n",
    "This small algortihm is able to solve beginner level Sudokus that don't even require considering the squares in the board, only the rows and columns.\n",
    "\n",
    "An example of an easy level sudoku is given below. I have linked the website where I got this puzzle from.\n",
    "\n",
    "An example of a medium and expert level sudokus are also given in the last cells. You will notice that if you run them, the kernel will sooner or later crash. This is because that puzzle is not solvable with this algorithm. For that we will have to explore later versions (version 3 and beyond) that add a few tricks in our bag.\n",
    "\n",
    "To understand better what the functions do, I encourage you to go ahead and try and solve some sudokus by yourself. If you can solve hard or expert level sudokus already, you will find these steps way more intuitive. \n",
    "Enjoy!"
   ]
  },
  {
   "cell_type": "code",
   "execution_count": null,
   "id": "d5a3ce15",
   "metadata": {},
   "outputs": [],
   "source": [
    "# import numpy for numpy.array function when trying to isolate all the columns of the board\n",
    "import numpy as np"
   ]
  },
  {
   "cell_type": "code",
   "execution_count": null,
   "id": "d3e958c7",
   "metadata": {},
   "outputs": [],
   "source": [
    "# Define all the functions we need to solve the puzzle\n",
    "\n",
    "# If a number does not appear in the row or column that it is in, then append it to a list of possible values\n",
    "# In theory this function only needs to be ran once to fill in all the possibilities. The other two functions either reduce the possibilities or fill in numbers that are 100% certain\n",
    "def add_possibilities(board):\n",
    "    for i in range(1,10):\n",
    "        for j in range(9):\n",
    "            for k in range(9):\n",
    "                if i not in board[j] and i not in np.array(board, dtype=object)[:,k]:\n",
    "                    if board[j][k] == 0:\n",
    "                        if board[j][k] != i:\n",
    "                            board[j][k] = []\n",
    "                            board[j][k].append(i)\n",
    "                    elif isinstance(board[j][k],list) and i not in board[j][k]:\n",
    "                        board[j][k].append(i)\n",
    "\n",
    "# Look for any lists that contain only one number. When found, remove the list and only leave the number. This number now becomes a concrete part of the board.\n",
    "def fill_box(board):\n",
    "    for i in range(1,10):\n",
    "        for j in range(9):\n",
    "            for k in range(9):\n",
    "                if isinstance(board[j][k], list) and len(board[j][k]) == 1:\n",
    "                    board[j][k] = board[j][k][0]\n",
    "\n",
    "\n",
    "# Now that the board has slightly changed because of the above function filling in a number that was certain, we need to remove any possibilit \n",
    "def remove_possibilities(board):\n",
    "    for i in range(1,10):\n",
    "        for j in range(9):\n",
    "            for k in range(9):\n",
    "                if i in board[j] or i in np.array(board, dtype=object)[:,k]:\n",
    "                    if isinstance(board[j][k],list) and i in board[j][k]:\n",
    "                        board[j][k].remove(i)"
   ]
  },
  {
   "cell_type": "code",
   "execution_count": null,
   "id": "9a0783f2",
   "metadata": {},
   "outputs": [],
   "source": [
    "def sudoku_solver(board):\n",
    "    # counter variable \"n\" used to check how many times we need to call the function to solve the puzzle\n",
    "    # this should be set to zero before running the function and is used to see how many times the function was called before outputting the solved board\n",
    "    global n\n",
    "    \n",
    "    add_possibilities(board)\n",
    "    #print(np.array(board, dtype=object))\n",
    "    \n",
    "    fill_box(board)\n",
    "    #print(\"\\n\"*2,np.array(board, dtype=object))\n",
    "\n",
    "    remove_possibilities(board)\n",
    "    #print(\"\\n\"*2,np.array(board, dtype=object))\n",
    "    \n",
    "    # Produce an array with values True or False depending on whether any of the boxes contain a list of possibilities or not\n",
    "    # If we still have lists, then we've got work to do so we have to run the function again.\n",
    "    \n",
    "    x = []\n",
    "\n",
    "    for i in np.array(board, dtype=object):\n",
    "        for j in range(9):\n",
    "            x.append(isinstance(i[j], list))\n",
    "\n",
    "    # If there are any True values - i.e. lists that have possible numbers in them, then repeat the loop again.\n",
    "    if any(i for i in x) is True:\n",
    "        print(\"\\nThe currect board is:\\n\",np.array(board, dtype=object))\n",
    "        # Increase the counter by 1\n",
    "        n += 1\n",
    "        sudoku_solver(board)\n",
    "    # Else if there are no lists left... The puzzle is solved!\n",
    "    else:\n",
    "        print(\"\\nSolved in\", n+1, \"function calls!\")\n",
    "        print(\"\\nThe final board is:\\n\",np.array(board, dtype=object))"
   ]
  },
  {
   "cell_type": "markdown",
   "id": "8cf72529",
   "metadata": {},
   "source": [
    "The board below can be found on [this website](https://www.puzzles-to-print.com/printable-sudokus/sudokus-for-kids/beginner-sudoku-easy.shtml)\n",
    "\n",
    "For each board you'd like to solve, you'd have to manually input the numbers.\n",
    "\n",
    "A possible and exciting extension to this project would be to solve the puzzle just by inputting an image of the board. Numbers from the board would be recognised with a simple neural network trained on the [MNIST dataset](https://en.wikipedia.org/wiki/MNIST_database) of handwritten digits. A simple way to \"find\" the boarders of the board and split it into 81 images, would be to symmetrically split the image in 9x9 equal images. This would assume that the edges of the board are perfectly at the edges of the image.\n",
    "\n",
    "This would save the fastle of inputting the numbers manually, but in order to work the model needs to have beyond 99% accuracy. Otherwise the solution in the output may be wrong, or the puzzle maybe become unsolvable."
   ]
  },
  {
   "cell_type": "code",
   "execution_count": null,
   "id": "ede1fc5b",
   "metadata": {},
   "outputs": [],
   "source": [
    "# Super easy board\n",
    "board_array = [ [5,0,0, 4,6,7, 3,0,9],\n",
    "                [9,0,3, 8,1,0, 4,2,7],\n",
    "                [1,7,4, 2,0,3, 0,0,0],\n",
    "\n",
    "                [2,3,1, 9,7,6, 8,5,4],\n",
    "                [8,5,7, 1,2,4, 0,9,0],\n",
    "                [4,9,6, 3,0,8, 1,7,2],\n",
    "\n",
    "                [0,0,0, 0,8,9, 2,6,0],\n",
    "                [7,8,2, 6,4,1, 0,0,5],\n",
    "                [0,1,0, 0,0,0, 7,0,8]\n",
    "                ]\n",
    "\n",
    "# Start a counter to see how many times you need to call the function to solve the puzzle\n",
    "n = 0\n",
    "\n",
    "# Solve the above board.\n",
    "# Remember the sudoku_solver function is recursive, meaning that it will call itself unless all the squares have a non-zero or non-list value - i.e. only a single integer\n",
    "sudoku_solver(board_array)"
   ]
  },
  {
   "cell_type": "code",
   "execution_count": null,
   "id": "1cf0fb66",
   "metadata": {},
   "outputs": [],
   "source": [
    "# Medium easy board: https://www.puzzles-to-print.com/printable-sudokus/sudokus-for-kids/beginner-sudoku-medium.shtml\n",
    "board_array = [ [0,5,0, 0,0,3, 7,0,0],\n",
    "                [8,3,1, 4,2,7, 0,0,5],\n",
    "                [9,7,4, 0,8,6, 1,2,3],\n",
    "               \n",
    "                [3,8,6, 1,4,0, 2,5,7],\n",
    "                [7,0,5, 0,0,0, 0,0,0],\n",
    "                [0,4,9, 7,0,2, 8,3,6],\n",
    "               \n",
    "                [5,0,0, 0,7,4, 0,9,8],\n",
    "                [0,9,0, 3,0,1, 0,0,2],\n",
    "                [2,0,0, 0,9,0, 3,0,1]\n",
    "                ]\n",
    "\n",
    "# Start a counter to see how many times you need to call the function to solve the puzzle\n",
    "n = 0\n",
    "\n",
    "# Solve the above board.\n",
    "# Remember the sudoku_solver function is recursive, meaning that it will call itself unless all the squares have a non-zero or non-list value - i.e. only a single integer\n",
    "sudoku_solver(board_array)"
   ]
  },
  {
   "cell_type": "markdown",
   "id": "0498a59a",
   "metadata": {},
   "source": [
    "Below is an expert level board taken from: https://suresolv.com/sudoku/solving-sudoku-expert-level-5-game-10-quickly\n",
    "Our limited algorithm doesn't get close to solving it.\n",
    "\n",
    "If you dont stop the kernel on the next cell it will run until it crashes as the board is never solved."
   ]
  },
  {
   "cell_type": "code",
   "execution_count": null,
   "id": "de7d024f",
   "metadata": {},
   "outputs": [],
   "source": [
    "# Expert level board\n",
    "board_array = [ [0,9,0, 0,0,0, 8,3,0],\n",
    "                [0,0,3, 6,0,0, 0,4,0],\n",
    "                [0,0,8, 0,0,0, 0,0,0],\n",
    "                \n",
    "                [2,0,0, 0,9,0, 0,0,0],\n",
    "                [0,0,0, 4,3,8, 0,0,0],\n",
    "                [9,0,5, 0,6,0, 0,0,0],\n",
    "               \n",
    "                [0,0,0, 7,0,0, 9,0,0],\n",
    "                [0,0,0, 0,0,4, 0,0,6],\n",
    "                [1,7,0, 0,0,0, 0,0,5],\n",
    "              ]\n",
    "\n",
    "sudoku_solver(board_array)"
   ]
  },
  {
   "cell_type": "markdown",
   "id": "9833c545",
   "metadata": {},
   "source": [
    "Maybe we were too ambitious going for expert straight away. Let's try and solve a medium one first.\n",
    "\n",
    "The below puzzle was taken from here: https://www.rd.com/wp-content/uploads/2020/12/Sudoku-Puzzle_08.pdf\n",
    "This website also offers 19 other sudoku puzzles at different levels in case you like to test your skills (or the algorithm's skills for that matter): https://www.rd.com/list/printable-sudoku-puzzles/"
   ]
  },
  {
   "cell_type": "code",
   "execution_count": null,
   "id": "36504a45",
   "metadata": {},
   "outputs": [],
   "source": [
    "# Medium sudoku\n",
    "\n",
    "board_array = [ [1,5,0, 2,0,9, 0,0,4],\n",
    "                [0,4,0, 0,0,6, 0,0,0],\n",
    "                [0,0,0, 0,4,0, 0,6,3],\n",
    "                \n",
    "                [0,7,0, 0,0,0, 8,0,6],\n",
    "                [6,0,0, 0,0,0, 0,0,5],\n",
    "                [2,0,8, 0,0,0, 0,1,0],\n",
    "               \n",
    "                [4,6,0, 0,8,0, 0,0,0],\n",
    "                [0,0,0, 6,0,0, 0,7,0],\n",
    "                [8,0,0, 5,0,1, 0,4,9],\n",
    "              ]\n",
    "\n",
    "# Start a counter to see how many times you need to call the function to solve the puzzle\n",
    "n = 0\n",
    "sudoku_solver(board_array)"
   ]
  },
  {
   "cell_type": "markdown",
   "id": "91fce813",
   "metadata": {},
   "source": [
    "As you can see if you had the courage to run the function on the above board, we still have a lot of work to do.\n",
    "\n",
    "From a quick skim through the board, I spotted only one list of possibilities having 2 values. The rest had 3, 4, some even 6 possible numbers. \n",
    "\n",
    "Go to version 2 to find out how well adding the 3x3 box check does against harder sudokus like the one above!"
   ]
  },
  {
   "cell_type": "code",
   "execution_count": null,
   "id": "289bdfd8",
   "metadata": {},
   "outputs": [],
   "source": [
    "+"
   ]
  }
 ],
 "metadata": {
  "kernelspec": {
   "display_name": "Python 3 (ipykernel)",
   "language": "python",
   "name": "python3"
  },
  "language_info": {
   "codemirror_mode": {
    "name": "ipython",
    "version": 3
   },
   "file_extension": ".py",
   "mimetype": "text/x-python",
   "name": "python",
   "nbconvert_exporter": "python",
   "pygments_lexer": "ipython3",
   "version": "3.9.12"
  }
 },
 "nbformat": 4,
 "nbformat_minor": 5
}
