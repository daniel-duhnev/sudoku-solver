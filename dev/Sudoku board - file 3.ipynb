{
 "cells": [
  {
   "cell_type": "markdown",
   "id": "0878c377",
   "metadata": {},
   "source": [
    "Sudoku board - file 3"
   ]
  },
  {
   "cell_type": "code",
   "execution_count": 1,
   "id": "77ef386b",
   "metadata": {},
   "outputs": [],
   "source": [
    "import numpy as np"
   ]
  },
  {
   "cell_type": "code",
   "execution_count": 2,
   "id": "2f8642a0",
   "metadata": {},
   "outputs": [
    {
     "name": "stdout",
     "output_type": "stream",
     "text": [
      "[[5, [1, 2, 8], [1, 2, 8], 4, 6, 7, 3, [1, 2, 8], 9], [9, [5, 6], 3, 8, 1, [5, 6], 4, 2, 7], [1, 7, 4, 2, [5, 6, 8, 9], 3, [5, 6, 8, 9], [5, 6, 8, 9], [5, 6, 8, 9]], [2, 3, 1, 9, 7, 6, 8, 5, 4], [8, 5, 7, 1, 2, 4, [3, 6], 9, [3, 6]], [4, 9, 6, 3, [5], 8, 1, 7, 2], [[1, 3, 4, 5, 7], [1, 3, 4, 5, 7], [1, 3, 4, 5, 7], [1, 3, 4, 5, 7], 8, 9, 2, 6, [1, 3, 4, 5, 7]], [7, 8, 2, 6, 4, 1, [3, 9], [3, 9], 5], [[2, 3, 4, 5, 6, 9], 1, [2, 3, 4, 5, 6, 9], [2, 3, 4, 5, 6, 9], [2, 3, 4, 5, 6, 9], [2, 3, 4, 5, 6, 9], 7, [2, 3, 4, 5, 6, 9], 8]] \n",
      "\n"
     ]
    }
   ],
   "source": [
    "board_array = [ [5,0,0, 4,6,7, 3,0,9],\n",
    "                [9,0,3, 8,1,0, 4,2,7],\n",
    "                [1,7,4, 2,0,3, 0,0,0],\n",
    "\n",
    "                [2,3,1, 9,7,6, 8,5,4],\n",
    "                [8,5,7, 1,2,4, 0,9,0],\n",
    "                [4,9,6, 3,0,8, 1,7,2],\n",
    "\n",
    "                [0,0,0, 0,8,9, 2,6,0],\n",
    "                [7,8,2, 6,4,1, 0,0,5],\n",
    "                [0,1,0, 0,0,0, 7,0,8]\n",
    "                ]\n",
    "\n",
    "for i in range(1,10):\n",
    "    for j in range(1,10):\n",
    "        if i not in board_array[j-1]:\n",
    "            for k in range(1,10):\n",
    "                if board_array[j-1][k-1] == 0:\n",
    "                    if board_array[j-1][k-1] != i:\n",
    "                        board_array[j-1][k-1] = []\n",
    "                        board_array[j-1][k-1].append(i)\n",
    "                elif isinstance(board_array[j-1][k-1],list) and i not in board_array[j-1][k-1]:\n",
    "                    board_array[j-1][k-1].append(i)\n",
    "                    \n",
    "print(board_array,\"\\n\")\n",
    "#print(np.array(board_array))"
   ]
  },
  {
   "cell_type": "code",
   "execution_count": 3,
   "id": "4a1f81bc",
   "metadata": {},
   "outputs": [
    {
     "name": "stdout",
     "output_type": "stream",
     "text": [
      "[[5 0 0 4 6 7 3 0 9]\n",
      " [9 0 3 8 1 0 4 2 7]\n",
      " [1 7 4 2 0 3 0 0 0]\n",
      " [2 3 1 9 7 6 8 5 4]\n",
      " [8 5 7 1 2 4 0 9 0]\n",
      " [4 9 6 3 0 8 1 7 2]\n",
      " [0 0 0 0 8 9 2 6 0]\n",
      " [7 8 2 6 4 1 0 0 5]\n",
      " [0 1 0 0 0 0 7 0 8]]\n"
     ]
    }
   ],
   "source": [
    "board_array = [ [5,0,0, 4,6,7, 3,0,9],\n",
    "                [9,0,3, 8,1,0, 4,2,7],\n",
    "                [1,7,4, 2,0,3, 0,0,0],\n",
    "\n",
    "                [2,3,1, 9,7,6, 8,5,4],\n",
    "                [8,5,7, 1,2,4, 0,9,0],\n",
    "                [4,9,6, 3,0,8, 1,7,2],\n",
    "\n",
    "                [0,0,0, 0,8,9, 2,6,0],\n",
    "                [7,8,2, 6,4,1, 0,0,5],\n",
    "                [0,1,0, 0,0,0, 7,0,8]\n",
    "                ]\n",
    "\n",
    "if 2 not in board_array[0] and 2 not in np.array(board_array)[:,7]:\n",
    "    if board_array[0][7] == 0:\n",
    "        board_array[0][7] = []\n",
    "        board_array[0][7].append(2)\n",
    "    elif isinstance(board_array[0][7],list) and 2 not in board_array[0][7]:\n",
    "        board_array[0][7].append(2)\n",
    "\n",
    "print(np.array(board_array))\n",
    "\n",
    "#it works! - if you like contrast this without adding the AND statement by uncommenting the following piece of code:\n",
    "# if 2 not in board_array[0] :#(and 2 not in np.array(board_array)[:,7]:)\n",
    "#     if board_array[0][7] == 0:\n",
    "#         board_array[0][7] = []\n",
    "#         board_array[0][7].append(2)\n",
    "#     elif isinstance(board_array[0][7],list) and 2 not in board_array[0][7]:\n",
    "#         board_array[0][7].append(2)\n",
    "# print(np.array(board_array))"
   ]
  },
  {
   "cell_type": "code",
   "execution_count": 4,
   "id": "a50ee8db",
   "metadata": {},
   "outputs": [
    {
     "name": "stdout",
     "output_type": "stream",
     "text": [
      "\n",
      "\n",
      " Row rule:\n",
      " [[5 list([1, 2, 8]) list([1, 2, 8]) 4 6 7 3 list([1, 2, 8]) 9]\n",
      " [9 list([5, 6]) 3 8 1 list([5, 6]) 4 2 7]\n",
      " [1 7 4 2 list([5, 6, 8, 9]) 3 list([5, 6, 8, 9]) list([5, 6, 8, 9])\n",
      "  list([5, 6, 8, 9])]\n",
      " [2 3 1 9 7 6 8 5 4]\n",
      " [8 5 7 1 2 4 list([3, 6]) 9 list([3, 6])]\n",
      " [4 9 6 3 list([5]) 8 1 7 2]\n",
      " [list([1, 3, 4, 5, 7]) list([1, 3, 4, 5, 7]) list([1, 3, 4, 5, 7])\n",
      "  list([1, 3, 4, 5, 7]) 8 9 2 6 list([1, 3, 4, 5, 7])]\n",
      " [7 8 2 6 4 1 list([3, 9]) list([3, 9]) 5]\n",
      " [list([2, 3, 4, 5, 6, 9]) 1 list([2, 3, 4, 5, 6, 9])\n",
      "  list([2, 3, 4, 5, 6, 9]) list([2, 3, 4, 5, 6, 9])\n",
      "  list([2, 3, 4, 5, 6, 9]) 7 list([2, 3, 4, 5, 6, 9]) 8]]\n",
      "\n",
      "\n",
      " Column rule:\n",
      " [[5 list([2, 4, 6]) list([5, 8, 9]) 4 6 7 3 list([1, 3, 4, 8]) 9]\n",
      " [9 list([2, 4, 6]) 3 8 1 list([2, 5]) 4 2 7]\n",
      " [1 7 4 2 list([3, 5, 9]) 3 list([5, 6, 9]) list([1, 3, 4, 8])\n",
      "  list([1, 3, 6])]\n",
      " [2 3 1 9 7 6 8 5 4]\n",
      " [8 5 7 1 2 4 list([5, 6, 9]) 9 list([1, 3, 6])]\n",
      " [4 9 6 3 list([3, 5, 9]) 8 1 7 2]\n",
      " [list([3, 6]) list([2, 4, 6]) list([5, 8, 9]) list([5, 7]) 8 9 2 6\n",
      "  list([1, 3, 6])]\n",
      " [7 8 2 6 4 1 list([5, 6, 9]) list([1, 3, 4, 8]) 5]\n",
      " [list([3, 6]) 1 list([5, 8, 9]) list([5, 7]) list([3, 5, 9])\n",
      "  list([2, 5]) 7 list([1, 3, 4, 8]) 8]]\n",
      "\n",
      "\n",
      " Both rules together:\n",
      " [[5 list([2]) list([8]) 4 6 7 3 list([1, 8]) 9]\n",
      " [9 list([6]) 3 8 1 list([5]) 4 2 7]\n",
      " [1 7 4 2 list([5, 9]) 3 list([5, 6, 9]) list([8]) list([6])]\n",
      " [2 3 1 9 7 6 8 5 4]\n",
      " [8 5 7 1 2 4 list([6]) 9 list([3, 6])]\n",
      " [4 9 6 3 list([5]) 8 1 7 2]\n",
      " [list([3]) list([4]) list([5]) list([5, 7]) 8 9 2 6 list([1, 3])]\n",
      " [7 8 2 6 4 1 list([9]) list([3]) 5]\n",
      " [list([3, 6]) 1 list([5, 9]) list([5]) list([3, 5, 9]) list([2, 5]) 7\n",
      "  list([3, 4]) 8]]\n"
     ]
    },
    {
     "name": "stderr",
     "output_type": "stream",
     "text": [
      "C:\\Users\\Daniel\\AppData\\Local\\Temp\\ipykernel_22628\\1621707753.py:28: VisibleDeprecationWarning: Creating an ndarray from ragged nested sequences (which is a list-or-tuple of lists-or-tuples-or ndarrays with different lengths or shapes) is deprecated. If you meant to do this, you must specify 'dtype=object' when creating the ndarray.\n",
      "  print(\"\\n\"*2, \"Row rule:\\n\", np.array(board_array))\n",
      "C:\\Users\\Daniel\\AppData\\Local\\Temp\\ipykernel_22628\\1621707753.py:47: VisibleDeprecationWarning: Creating an ndarray from ragged nested sequences (which is a list-or-tuple of lists-or-tuples-or ndarrays with different lengths or shapes) is deprecated. If you meant to do this, you must specify 'dtype=object' when creating the ndarray.\n",
      "  if i not in np.array(board_array)[:,j-1]:\n",
      "C:\\Users\\Daniel\\AppData\\Local\\Temp\\ipykernel_22628\\1621707753.py:56: VisibleDeprecationWarning: Creating an ndarray from ragged nested sequences (which is a list-or-tuple of lists-or-tuples-or ndarrays with different lengths or shapes) is deprecated. If you meant to do this, you must specify 'dtype=object' when creating the ndarray.\n",
      "  print(\"\\n\"*2, \"Column rule:\\n\", np.array(board_array))\n",
      "C:\\Users\\Daniel\\AppData\\Local\\Temp\\ipykernel_22628\\1621707753.py:76: VisibleDeprecationWarning: Creating an ndarray from ragged nested sequences (which is a list-or-tuple of lists-or-tuples-or ndarrays with different lengths or shapes) is deprecated. If you meant to do this, you must specify 'dtype=object' when creating the ndarray.\n",
      "  if i not in board_array[j-1] and i not in np.array(board_array)[:,k-1]:\n",
      "C:\\Users\\Daniel\\AppData\\Local\\Temp\\ipykernel_22628\\1621707753.py:85: VisibleDeprecationWarning: Creating an ndarray from ragged nested sequences (which is a list-or-tuple of lists-or-tuples-or ndarrays with different lengths or shapes) is deprecated. If you meant to do this, you must specify 'dtype=object' when creating the ndarray.\n",
      "  print(\"\\n\"*2, \"Both rules together:\\n\", np.array(board_array))\n"
     ]
    }
   ],
   "source": [
    "# APPLY ROW RULE ONLY:\n",
    "\n",
    "board_array = [ [5,0,0, 4,6,7, 3,0,9],\n",
    "                [9,0,3, 8,1,0, 4,2,7],\n",
    "                [1,7,4, 2,0,3, 0,0,0],\n",
    "\n",
    "                [2,3,1, 9,7,6, 8,5,4],\n",
    "                [8,5,7, 1,2,4, 0,9,0],\n",
    "                [4,9,6, 3,0,8, 1,7,2],\n",
    "\n",
    "                [0,0,0, 0,8,9, 2,6,0],\n",
    "                [7,8,2, 6,4,1, 0,0,5],\n",
    "                [0,1,0, 0,0,0, 7,0,8]\n",
    "                ]\n",
    "\n",
    "for i in range(1,10):\n",
    "    for j in range(1,10):\n",
    "        if i not in board_array[j-1]:\n",
    "            for k in range(1,10):\n",
    "                if board_array[j-1][k-1] == 0:\n",
    "                    if board_array[j-1][k-1] != i:\n",
    "                        board_array[j-1][k-1] = []\n",
    "                        board_array[j-1][k-1].append(i)\n",
    "                elif isinstance(board_array[j-1][k-1],list) and i not in board_array[j-1][k-1]:\n",
    "                    board_array[j-1][k-1].append(i)\n",
    "                    \n",
    "#print(board_array,\"\\n\")\n",
    "print(\"\\n\"*2, \"Row rule:\\n\", np.array(board_array))\n",
    "\n",
    "\n",
    "# APPLY COLUMN RULE ONLY:\n",
    "board_array = [ [5,0,0, 4,6,7, 3,0,9],\n",
    "                [9,0,3, 8,1,0, 4,2,7],\n",
    "                [1,7,4, 2,0,3, 0,0,0],\n",
    "\n",
    "                [2,3,1, 9,7,6, 8,5,4],\n",
    "                [8,5,7, 1,2,4, 0,9,0],\n",
    "                [4,9,6, 3,0,8, 1,7,2],\n",
    "\n",
    "                [0,0,0, 0,8,9, 2,6,0],\n",
    "                [7,8,2, 6,4,1, 0,0,5],\n",
    "                [0,1,0, 0,0,0, 7,0,8]\n",
    "                ]\n",
    "\n",
    "for i in range(1,10):\n",
    "    for j in range(1,10):\n",
    "        if i not in np.array(board_array)[:,j-1]:\n",
    "            for k in range(1,10):\n",
    "                if board_array[k-1][j-1] == 0:\n",
    "                    if board_array[k-1][j-1] != i:\n",
    "                        board_array[k-1][j-1] = []\n",
    "                        board_array[k-1][j-1].append(i)\n",
    "                elif isinstance(board_array[k-1][j-1],list) and i not in board_array[k-1][j-1]:\n",
    "                    board_array[k-1][j-1].append(i)\n",
    "\n",
    "print(\"\\n\"*2, \"Column rule:\\n\", np.array(board_array))\n",
    "\n",
    "# NOW ADD THE COLUMN RULE ALONG WITH THE ROW RULE TOGETHER:\n",
    "\n",
    "board_array = [ [5,0,0, 4,6,7, 3,0,9],\n",
    "                [9,0,3, 8,1,0, 4,2,7],\n",
    "                [1,7,4, 2,0,3, 0,0,0],\n",
    "\n",
    "                [2,3,1, 9,7,6, 8,5,4],\n",
    "                [8,5,7, 1,2,4, 0,9,0],\n",
    "                [4,9,6, 3,0,8, 1,7,2],\n",
    "\n",
    "                [0,0,0, 0,8,9, 2,6,0],\n",
    "                [7,8,2, 6,4,1, 0,0,5],\n",
    "                [0,1,0, 0,0,0, 7,0,8]\n",
    "                ]\n",
    "\n",
    "for i in range(1,10):\n",
    "    for j in range(1,10):\n",
    "        for k in range(1,10):\n",
    "            if i not in board_array[j-1] and i not in np.array(board_array)[:,k-1]:\n",
    "                    if board_array[j-1][k-1] == 0:\n",
    "                        if board_array[j-1][k-1] != i:\n",
    "                            board_array[j-1][k-1] = []\n",
    "                            board_array[j-1][k-1].append(i)\n",
    "                    elif isinstance(board_array[j-1][k-1],list) and i not in board_array[j-1][k-1]:\n",
    "                        board_array[j-1][k-1].append(i)\n",
    "                    \n",
    "#print(board_array,\"\\n\")\n",
    "print(\"\\n\"*2, \"Both rules together:\\n\", np.array(board_array))"
   ]
  },
  {
   "cell_type": "code",
   "execution_count": 5,
   "id": "c051c378",
   "metadata": {},
   "outputs": [
    {
     "name": "stdout",
     "output_type": "stream",
     "text": [
      "\n",
      "\n",
      " Both row and column rules applied together:\n",
      " [[5 list([2]) list([8]) 4 6 7 3 list([1, 8]) 9]\n",
      " [9 list([6]) 3 8 1 list([5]) 4 2 7]\n",
      " [1 7 4 2 list([5, 9]) 3 list([5, 6, 9]) list([8]) list([6])]\n",
      " [2 3 1 9 7 6 8 5 4]\n",
      " [8 5 7 1 2 4 list([6]) 9 list([3, 6])]\n",
      " [4 9 6 3 list([5]) 8 1 7 2]\n",
      " [list([3]) list([4]) list([5]) list([5, 7]) 8 9 2 6 list([1, 3])]\n",
      " [7 8 2 6 4 1 list([9]) list([3]) 5]\n",
      " [list([3, 6]) 1 list([5, 9]) list([5]) list([3, 5, 9]) list([2, 5]) 7\n",
      "  list([3, 4]) 8]]\n",
      "\n",
      "\n",
      " [[5 2 8 4 6 7 3 list([1, 8]) 9]\n",
      " [9 6 3 8 1 5 4 2 7]\n",
      " [1 7 4 2 list([5, 9]) 3 list([5, 6, 9]) 8 6]\n",
      " [2 3 1 9 7 6 8 5 4]\n",
      " [8 5 7 1 2 4 6 9 list([3, 6])]\n",
      " [4 9 6 3 5 8 1 7 2]\n",
      " [3 4 5 list([5, 7]) 8 9 2 6 list([1, 3])]\n",
      " [7 8 2 6 4 1 9 3 5]\n",
      " [list([3, 6]) 1 list([5, 9]) 5 list([3, 5, 9]) list([2, 5]) 7\n",
      "  list([3, 4]) 8]]\n"
     ]
    },
    {
     "name": "stderr",
     "output_type": "stream",
     "text": [
      "C:\\Users\\Daniel\\AppData\\Local\\Temp\\ipykernel_22628\\338762454.py:17: VisibleDeprecationWarning: Creating an ndarray from ragged nested sequences (which is a list-or-tuple of lists-or-tuples-or ndarrays with different lengths or shapes) is deprecated. If you meant to do this, you must specify 'dtype=object' when creating the ndarray.\n",
      "  if i not in board_array[j-1] and i not in np.array(board_array)[:,k-1]:\n",
      "C:\\Users\\Daniel\\AppData\\Local\\Temp\\ipykernel_22628\\338762454.py:26: VisibleDeprecationWarning: Creating an ndarray from ragged nested sequences (which is a list-or-tuple of lists-or-tuples-or ndarrays with different lengths or shapes) is deprecated. If you meant to do this, you must specify 'dtype=object' when creating the ndarray.\n",
      "  print(\"\\n\"*2, \"Both row and column rules applied together:\\n\", np.array(board_array))\n",
      "C:\\Users\\Daniel\\AppData\\Local\\Temp\\ipykernel_22628\\338762454.py:34: VisibleDeprecationWarning: Creating an ndarray from ragged nested sequences (which is a list-or-tuple of lists-or-tuples-or ndarrays with different lengths or shapes) is deprecated. If you meant to do this, you must specify 'dtype=object' when creating the ndarray.\n",
      "  print(\"\\n\"*2, np.array(board_array))\n"
     ]
    }
   ],
   "source": [
    "board_array = [ [5,0,0, 4,6,7, 3,0,9],\n",
    "                [9,0,3, 8,1,0, 4,2,7],\n",
    "                [1,7,4, 2,0,3, 0,0,0],\n",
    "\n",
    "                [2,3,1, 9,7,6, 8,5,4],\n",
    "                [8,5,7, 1,2,4, 0,9,0],\n",
    "                [4,9,6, 3,0,8, 1,7,2],\n",
    "\n",
    "                [0,0,0, 0,8,9, 2,6,0],\n",
    "                [7,8,2, 6,4,1, 0,0,5],\n",
    "                [0,1,0, 0,0,0, 7,0,8]\n",
    "                ]\n",
    "\n",
    "for i in range(1,10):\n",
    "    for j in range(1,10):\n",
    "        for k in range(1,10):\n",
    "            if i not in board_array[j-1] and i not in np.array(board_array)[:,k-1]:\n",
    "                    if board_array[j-1][k-1] == 0:\n",
    "                        if board_array[j-1][k-1] != i:\n",
    "                            board_array[j-1][k-1] = []\n",
    "                            board_array[j-1][k-1].append(i)\n",
    "                    elif isinstance(board_array[j-1][k-1], list) and i not in board_array[j-1][k-1]:\n",
    "                        board_array[j-1][k-1].append(i)\n",
    "                    \n",
    "#print(board_array,\"\\n\")\n",
    "print(\"\\n\"*2, \"Both row and column rules applied together:\\n\", np.array(board_array))\n",
    "\n",
    "for i in range(1,10):\n",
    "    for j in range(1,10):\n",
    "        for k in range(1,10):\n",
    "            if isinstance(board_array[j-1][k-1], list) and len(board_array[j-1][k-1]) == 1:\n",
    "                board_array[j-1][k-1] = board_array[j-1][k-1][0]\n",
    "                \n",
    "print(\"\\n\"*2, np.array(board_array))"
   ]
  },
  {
   "cell_type": "code",
   "execution_count": 6,
   "id": "ceba2bd5",
   "metadata": {},
   "outputs": [
    {
     "name": "stdout",
     "output_type": "stream",
     "text": [
      "\n",
      "\n",
      " [[5 2 8 4 6 7 3 list([1, 8]) 9]\n",
      " [9 6 3 8 1 5 4 2 7]\n",
      " [1 7 4 2 list([5, 9]) 3 list([5, 6, 9]) 8 6]\n",
      " [2 3 1 9 7 6 8 5 4]\n",
      " [8 5 7 1 2 4 6 9 list([3, 6])]\n",
      " [4 9 6 3 5 8 1 7 2]\n",
      " [3 4 5 list([5, 7]) 8 9 2 6 list([1, 3])]\n",
      " [7 8 2 6 4 1 9 3 5]\n",
      " [list([3, 6]) 1 list([5, 9]) 5 list([3, 5, 9]) list([2, 5]) 7\n",
      "  list([3, 4]) 8]]\n"
     ]
    },
    {
     "name": "stderr",
     "output_type": "stream",
     "text": [
      "C:\\Users\\Daniel\\AppData\\Local\\Temp\\ipykernel_22628\\3183752252.py:4: VisibleDeprecationWarning: Creating an ndarray from ragged nested sequences (which is a list-or-tuple of lists-or-tuples-or ndarrays with different lengths or shapes) is deprecated. If you meant to do this, you must specify 'dtype=object' when creating the ndarray.\n",
      "  if i not in board_array[j-1] and i not in np.array(board_array)[:,k-1]:\n",
      "C:\\Users\\Daniel\\AppData\\Local\\Temp\\ipykernel_22628\\3183752252.py:13: VisibleDeprecationWarning: Creating an ndarray from ragged nested sequences (which is a list-or-tuple of lists-or-tuples-or ndarrays with different lengths or shapes) is deprecated. If you meant to do this, you must specify 'dtype=object' when creating the ndarray.\n",
      "  print(\"\\n\"*2, np.array(board_array))\n"
     ]
    }
   ],
   "source": [
    "for i in range(1,10):\n",
    "    for j in range(1,10):\n",
    "        for k in range(1,10):\n",
    "            if i not in board_array[j-1] and i not in np.array(board_array)[:,k-1]:\n",
    "                    if board_array[j-1][k-1] == 0:\n",
    "                        if board_array[j-1][k-1] != i:\n",
    "                            board_array[j-1][k-1] = []\n",
    "                            board_array[j-1][k-1].append(i)\n",
    "                    elif isinstance(board_array[j-1][k-1],list) and i not in board_array[j-1][k-1]:\n",
    "                        board_array[j-1][k-1].append(i)\n",
    "                    \n",
    "#print(board_array,\"\\n\")\n",
    "print(\"\\n\"*2, np.array(board_array))"
   ]
  },
  {
   "cell_type": "markdown",
   "id": "3f381465",
   "metadata": {},
   "source": [
    "NEXT STEP: Remove numbers that can no longer be there after first application of function."
   ]
  },
  {
   "cell_type": "code",
   "execution_count": 7,
   "id": "00f160ed",
   "metadata": {},
   "outputs": [
    {
     "name": "stdout",
     "output_type": "stream",
     "text": [
      "\n",
      "\n",
      " [[5 2 8 4 6 7 3 list([1]) 9]\n",
      " [9 6 3 8 1 5 4 2 7]\n",
      " [1 7 4 2 list([9]) 3 list([5]) 8 6]\n",
      " [2 3 1 9 7 6 8 5 4]\n",
      " [8 5 7 1 2 4 6 9 list([3])]\n",
      " [4 9 6 3 5 8 1 7 2]\n",
      " [3 4 5 list([7]) 8 9 2 6 list([1])]\n",
      " [7 8 2 6 4 1 9 3 5]\n",
      " [list([6]) 1 list([9]) 5 list([3, 9]) list([2]) 7 list([4]) 8]]\n"
     ]
    },
    {
     "name": "stderr",
     "output_type": "stream",
     "text": [
      "C:\\Users\\Daniel\\AppData\\Local\\Temp\\ipykernel_22628\\2497966789.py:4: VisibleDeprecationWarning: Creating an ndarray from ragged nested sequences (which is a list-or-tuple of lists-or-tuples-or ndarrays with different lengths or shapes) is deprecated. If you meant to do this, you must specify 'dtype=object' when creating the ndarray.\n",
      "  if i in board_array[j-1] or i in np.array(board_array)[:,k-1]:\n",
      "C:\\Users\\Daniel\\AppData\\Local\\Temp\\ipykernel_22628\\2497966789.py:8: VisibleDeprecationWarning: Creating an ndarray from ragged nested sequences (which is a list-or-tuple of lists-or-tuples-or ndarrays with different lengths or shapes) is deprecated. If you meant to do this, you must specify 'dtype=object' when creating the ndarray.\n",
      "  print(\"\\n\"*2, np.array(board_array))\n"
     ]
    }
   ],
   "source": [
    "for i in range(1,10):\n",
    "    for j in range(1,10):\n",
    "        for k in range(1,10):\n",
    "            if i in board_array[j-1] or i in np.array(board_array)[:,k-1]:\n",
    "                if isinstance(board_array[j-1][k-1],list) and i in board_array[j-1][k-1]:\n",
    "                    board_array[j-1][k-1].remove(i)\n",
    "                    \n",
    "print(\"\\n\"*2, np.array(board_array))"
   ]
  },
  {
   "cell_type": "code",
   "execution_count": 8,
   "id": "66b79e01",
   "metadata": {},
   "outputs": [
    {
     "name": "stdout",
     "output_type": "stream",
     "text": [
      "\n",
      "\n",
      " [[5 2 8 4 6 7 3 1 9]\n",
      " [9 6 3 8 1 5 4 2 7]\n",
      " [1 7 4 2 9 3 5 8 6]\n",
      " [2 3 1 9 7 6 8 5 4]\n",
      " [8 5 7 1 2 4 6 9 3]\n",
      " [4 9 6 3 5 8 1 7 2]\n",
      " [3 4 5 7 8 9 2 6 1]\n",
      " [7 8 2 6 4 1 9 3 5]\n",
      " [6 1 9 5 list([3, 9]) 2 7 4 8]]\n"
     ]
    },
    {
     "name": "stderr",
     "output_type": "stream",
     "text": [
      "C:\\Users\\Daniel\\AppData\\Local\\Temp\\ipykernel_22628\\1068944800.py:7: VisibleDeprecationWarning: Creating an ndarray from ragged nested sequences (which is a list-or-tuple of lists-or-tuples-or ndarrays with different lengths or shapes) is deprecated. If you meant to do this, you must specify 'dtype=object' when creating the ndarray.\n",
      "  print(\"\\n\"*2, np.array(board_array))\n"
     ]
    }
   ],
   "source": [
    "for i in range(1,10):\n",
    "    for j in range(1,10):\n",
    "        for k in range(1,10):\n",
    "            if isinstance(board_array[j-1][k-1], list) and len(board_array[j-1][k-1]) == 1:\n",
    "                board_array[j-1][k-1] = board_array[j-1][k-1][0]\n",
    "                \n",
    "print(\"\\n\"*2, np.array(board_array))"
   ]
  },
  {
   "cell_type": "code",
   "execution_count": 9,
   "id": "d7db9ea6",
   "metadata": {},
   "outputs": [
    {
     "name": "stdout",
     "output_type": "stream",
     "text": [
      "\n",
      "\n",
      " [[5 2 8 4 6 7 3 1 9]\n",
      " [9 6 3 8 1 5 4 2 7]\n",
      " [1 7 4 2 9 3 5 8 6]\n",
      " [2 3 1 9 7 6 8 5 4]\n",
      " [8 5 7 1 2 4 6 9 3]\n",
      " [4 9 6 3 5 8 1 7 2]\n",
      " [3 4 5 7 8 9 2 6 1]\n",
      " [7 8 2 6 4 1 9 3 5]\n",
      " [6 1 9 5 list([3]) 2 7 4 8]]\n"
     ]
    },
    {
     "name": "stderr",
     "output_type": "stream",
     "text": [
      "C:\\Users\\Daniel\\AppData\\Local\\Temp\\ipykernel_22628\\2497966789.py:4: VisibleDeprecationWarning: Creating an ndarray from ragged nested sequences (which is a list-or-tuple of lists-or-tuples-or ndarrays with different lengths or shapes) is deprecated. If you meant to do this, you must specify 'dtype=object' when creating the ndarray.\n",
      "  if i in board_array[j-1] or i in np.array(board_array)[:,k-1]:\n",
      "C:\\Users\\Daniel\\AppData\\Local\\Temp\\ipykernel_22628\\2497966789.py:8: VisibleDeprecationWarning: Creating an ndarray from ragged nested sequences (which is a list-or-tuple of lists-or-tuples-or ndarrays with different lengths or shapes) is deprecated. If you meant to do this, you must specify 'dtype=object' when creating the ndarray.\n",
      "  print(\"\\n\"*2, np.array(board_array))\n"
     ]
    }
   ],
   "source": [
    "for i in range(1,10):\n",
    "    for j in range(1,10):\n",
    "        for k in range(1,10):\n",
    "            if i in board_array[j-1] or i in np.array(board_array)[:,k-1]:\n",
    "                if isinstance(board_array[j-1][k-1],list) and i in board_array[j-1][k-1]:\n",
    "                    board_array[j-1][k-1].remove(i)\n",
    "                    \n",
    "print(\"\\n\"*2, np.array(board_array))"
   ]
  },
  {
   "cell_type": "code",
   "execution_count": 10,
   "id": "297e1546",
   "metadata": {},
   "outputs": [
    {
     "name": "stdout",
     "output_type": "stream",
     "text": [
      "\n",
      "\n",
      " [[5 2 8 4 6 7 3 1 9]\n",
      " [9 6 3 8 1 5 4 2 7]\n",
      " [1 7 4 2 9 3 5 8 6]\n",
      " [2 3 1 9 7 6 8 5 4]\n",
      " [8 5 7 1 2 4 6 9 3]\n",
      " [4 9 6 3 5 8 1 7 2]\n",
      " [3 4 5 7 8 9 2 6 1]\n",
      " [7 8 2 6 4 1 9 3 5]\n",
      " [6 1 9 5 3 2 7 4 8]]\n"
     ]
    }
   ],
   "source": [
    "for i in range(1,10):\n",
    "    for j in range(1,10):\n",
    "        for k in range(1,10):\n",
    "            if isinstance(board_array[j-1][k-1], list) and len(board_array[j-1][k-1]) == 1:\n",
    "                board_array[j-1][k-1] = board_array[j-1][k-1][0]\n",
    "                \n",
    "print(\"\\n\"*2, np.array(board_array))"
   ]
  },
  {
   "cell_type": "code",
   "execution_count": null,
   "id": "743c8c3b",
   "metadata": {},
   "outputs": [],
   "source": []
  },
  {
   "cell_type": "markdown",
   "id": "cb6b24af",
   "metadata": {},
   "source": [
    "# IT WORKED!"
   ]
  },
  {
   "cell_type": "markdown",
   "id": "e779161e",
   "metadata": {},
   "source": [
    "Problems to solve now:\n",
    "\n",
    "1. Incorporate squares into checking mechanism. \n",
    "If number not part of row, column, AND square, then fill it in as a possibility\n",
    "\n",
    "2. Create a recursive function "
   ]
  },
  {
   "cell_type": "code",
   "execution_count": 11,
   "id": "db164ee0",
   "metadata": {},
   "outputs": [],
   "source": [
    "# Build a quick recursive function\n",
    "\n",
    "def factorial(x):\n",
    "    if isinstance(x, float):\n",
    "        return(\"Can't do floats\")\n",
    "    if x < 0:\n",
    "        return(\"Can't do negative numbers\")\n",
    "    if x == 0:\n",
    "        return(1)\n",
    "    elif x == 1:\n",
    "        return x\n",
    "    else:\n",
    "        return(x * factorial(x-1))"
   ]
  },
  {
   "cell_type": "code",
   "execution_count": 12,
   "id": "aaf4db3b",
   "metadata": {},
   "outputs": [
    {
     "data": {
      "text/plain": [
       "1"
      ]
     },
     "execution_count": 12,
     "metadata": {},
     "output_type": "execute_result"
    }
   ],
   "source": [
    "factorial(1)"
   ]
  },
  {
   "cell_type": "code",
   "execution_count": 13,
   "id": "ad91e89c",
   "metadata": {},
   "outputs": [
    {
     "data": {
      "text/plain": [
       "6"
      ]
     },
     "execution_count": 13,
     "metadata": {},
     "output_type": "execute_result"
    }
   ],
   "source": [
    "factorial(3)"
   ]
  },
  {
   "cell_type": "code",
   "execution_count": 14,
   "id": "abe6316d",
   "metadata": {},
   "outputs": [
    {
     "data": {
      "text/plain": [
       "1"
      ]
     },
     "execution_count": 14,
     "metadata": {},
     "output_type": "execute_result"
    }
   ],
   "source": [
    "factorial(0)"
   ]
  },
  {
   "cell_type": "code",
   "execution_count": 15,
   "id": "1c6130a5",
   "metadata": {},
   "outputs": [
    {
     "data": {
      "text/plain": [
       "\"Can't do floats\""
      ]
     },
     "execution_count": 15,
     "metadata": {},
     "output_type": "execute_result"
    }
   ],
   "source": [
    "factorial(1.1)"
   ]
  },
  {
   "cell_type": "code",
   "execution_count": 16,
   "id": "cda49c91",
   "metadata": {},
   "outputs": [
    {
     "data": {
      "text/plain": [
       "\"Can't do negative numbers\""
      ]
     },
     "execution_count": 16,
     "metadata": {},
     "output_type": "execute_result"
    }
   ],
   "source": [
    "factorial(-1)"
   ]
  },
  {
   "cell_type": "code",
   "execution_count": 17,
   "id": "6f2739b5",
   "metadata": {},
   "outputs": [
    {
     "data": {
      "text/plain": [
       "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"
      ]
     },
     "execution_count": 17,
     "metadata": {},
     "output_type": "execute_result"
    }
   ],
   "source": [
    "factorial(2500)"
   ]
  },
  {
   "cell_type": "code",
   "execution_count": null,
   "id": "707a6c51",
   "metadata": {},
   "outputs": [],
   "source": []
  }
 ],
 "metadata": {
  "kernelspec": {
   "display_name": "Python 3 (ipykernel)",
   "language": "python",
   "name": "python3"
  },
  "language_info": {
   "codemirror_mode": {
    "name": "ipython",
    "version": 3
   },
   "file_extension": ".py",
   "mimetype": "text/x-python",
   "name": "python",
   "nbconvert_exporter": "python",
   "pygments_lexer": "ipython3",
   "version": "3.9.12"
  }
 },
 "nbformat": 4,
 "nbformat_minor": 5
}
