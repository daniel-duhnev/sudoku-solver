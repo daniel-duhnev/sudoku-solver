{
 "cells": [
  {
   "cell_type": "markdown",
   "id": "9b00eafe",
   "metadata": {},
   "source": [
    "Figure out how to loop so that you check all the square values"
   ]
  },
  {
   "cell_type": "code",
   "execution_count": 3,
   "id": "e1b6dad8",
   "metadata": {},
   "outputs": [],
   "source": [
    "import numpy as np"
   ]
  },
  {
   "cell_type": "code",
   "execution_count": 10,
   "id": "f6891703",
   "metadata": {},
   "outputs": [
    {
     "name": "stdout",
     "output_type": "stream",
     "text": [
      "[[5 0 0]\n",
      " [9 0 3]\n",
      " [1 7 4]]\n",
      "[[9 7 6]\n",
      " [1 2 4]\n",
      " [3 0 8]]\n",
      "[[5 0 0]\n",
      " [9 0 3]\n",
      " [1 7 4]]\n",
      "[[4 6 7]\n",
      " [8 1 0]\n",
      " [2 0 3]]\n",
      "[[3 0 9]\n",
      " [4 2 7]\n",
      " [0 0 0]]\n",
      "[[2 3 1]\n",
      " [8 5 7]\n",
      " [4 9 6]]\n",
      "[[9 7 6]\n",
      " [1 2 4]\n",
      " [3 0 8]]\n",
      "[[8 5 4]\n",
      " [0 9 0]\n",
      " [1 7 2]]\n",
      "[[0 0 0]\n",
      " [7 8 2]\n",
      " [0 1 0]]\n",
      "[[0 8 9]\n",
      " [6 4 1]\n",
      " [0 0 0]]\n",
      "[[2 6 0]\n",
      " [0 0 5]\n",
      " [7 0 8]]\n"
     ]
    }
   ],
   "source": [
    "board_array = [ [5,0,0, 4,6,7, 3,0,9],\n",
    "                [9,0,3, 8,1,0, 4,2,7],\n",
    "                [1,7,4, 2,0,3, 0,0,0],\n",
    "\n",
    "                [2,3,1, 9,7,6, 8,5,4],\n",
    "                [8,5,7, 1,2,4, 0,9,0],\n",
    "                [4,9,6, 3,0,8, 1,7,2],\n",
    "\n",
    "                [0,0,0, 0,8,9, 2,6,0],\n",
    "                [7,8,2, 6,4,1, 0,0,5],\n",
    "                [0,1,0, 0,0,0, 7,0,8]\n",
    "                ]\n",
    "\n",
    "# squares\n",
    "\n",
    "# first square\n",
    "print(np.array(board_array)[0:3, 0:3])\n",
    "\n",
    "# middle square\n",
    "print(np.array(board_array)[3:6, 3:6])\n",
    "\n",
    "for i in [0,3,6]:\n",
    "    for j in [0,3,6]:\n",
    "        print(np.array(board_array)[i:i+3, j:j+3])"
   ]
  },
  {
   "cell_type": "code",
   "execution_count": 33,
   "id": "7b65c6d7",
   "metadata": {},
   "outputs": [],
   "source": [
    "def add_possibilities(board_array):\n",
    "    if board_array[j][k] == 0:\n",
    "        if board_array[j][k] != i:\n",
    "            board_array[j][k] = []\n",
    "            board_array[j][k].append(i)\n",
    "    elif isinstance(board_array[j][k],list) and i not in board_array[j][k]:\n",
    "        board_array[j][k].append(i)    "
   ]
  },
  {
   "cell_type": "code",
   "execution_count": null,
   "id": "8068eb61",
   "metadata": {},
   "outputs": [],
   "source": []
  },
  {
   "cell_type": "code",
   "execution_count": 34,
   "id": "3b1a50df",
   "metadata": {},
   "outputs": [
    {
     "name": "stdout",
     "output_type": "stream",
     "text": [
      "[[5 list([2, 6, 8]) list([2, 6, 8]) 4 6 7 3 0 9]\n",
      " [9 list([2, 6, 8]) 3 8 1 list([5, 9]) 4 2 7]\n",
      " [1 7 4 2 list([5, 9]) 3 0 0 0]\n",
      " [2 3 1 9 7 6 8 5 4]\n",
      " [8 5 7 1 2 4 0 9 0]\n",
      " [4 9 6 3 0 8 1 7 2]\n",
      " [0 0 0 0 8 9 2 6 0]\n",
      " [7 8 2 6 4 1 0 0 5]\n",
      " [0 1 0 0 0 0 7 0 8]]\n"
     ]
    },
    {
     "name": "stderr",
     "output_type": "stream",
     "text": [
      "C:\\Users\\Daniel\\AppData\\Local\\Temp\\ipykernel_15944\\532643176.py:19: VisibleDeprecationWarning: Creating an ndarray from ragged nested sequences (which is a list-or-tuple of lists-or-tuples-or ndarrays with different lengths or shapes) is deprecated. If you meant to do this, you must specify 'dtype=object' when creating the ndarray.\n",
      "  if i not in np.array(board_array)[0:3, 0:3]:\n",
      "C:\\Users\\Daniel\\AppData\\Local\\Temp\\ipykernel_15944\\532643176.py:22: VisibleDeprecationWarning: Creating an ndarray from ragged nested sequences (which is a list-or-tuple of lists-or-tuples-or ndarrays with different lengths or shapes) is deprecated. If you meant to do this, you must specify 'dtype=object' when creating the ndarray.\n",
      "  if i not in np.array(board_array)[0:3, 3:6]:\n",
      "C:\\Users\\Daniel\\AppData\\Local\\Temp\\ipykernel_15944\\532643176.py:30: VisibleDeprecationWarning: Creating an ndarray from ragged nested sequences (which is a list-or-tuple of lists-or-tuples-or ndarrays with different lengths or shapes) is deprecated. If you meant to do this, you must specify 'dtype=object' when creating the ndarray.\n",
      "  print(np.array(board_array))\n"
     ]
    }
   ],
   "source": [
    "board_array = [ [5,0,0, 4,6,7, 3,0,9],\n",
    "                [9,0,3, 8,1,0, 4,2,7],\n",
    "                [1,7,4, 2,0,3, 0,0,0],\n",
    "\n",
    "                [2,3,1, 9,7,6, 8,5,4],\n",
    "                [8,5,7, 1,2,4, 0,9,0],\n",
    "                [4,9,6, 3,0,8, 1,7,2],\n",
    "\n",
    "                [0,0,0, 0,8,9, 2,6,0],\n",
    "                [7,8,2, 6,4,1, 0,0,5],\n",
    "                [0,1,0, 0,0,0, 7,0,8]\n",
    "                ]\n",
    "\n",
    "for i in range(1,10):\n",
    "    for j in range(3):\n",
    "        for k in range(6):\n",
    "            if j <=2:\n",
    "                if k <=2:\n",
    "                    if i not in np.array(board_array)[0:3, 0:3]:\n",
    "                        add_possibilities(board_array)\n",
    "                elif k <=5 and k > 2:\n",
    "                    if i not in np.array(board_array)[0:3, 3:6]:\n",
    "                        add_possibilities(board_array)\n",
    "\n",
    "print(np.array(board_array))                                    "
   ]
  },
  {
   "cell_type": "code",
   "execution_count": 19,
   "id": "2ca2de60",
   "metadata": {},
   "outputs": [
    {
     "name": "stderr",
     "output_type": "stream",
     "text": [
      "C:\\Users\\Daniel\\AppData\\Local\\Temp\\ipykernel_15944\\247817103.py:1: VisibleDeprecationWarning: Creating an ndarray from ragged nested sequences (which is a list-or-tuple of lists-or-tuples-or ndarrays with different lengths or shapes) is deprecated. If you meant to do this, you must specify 'dtype=object' when creating the ndarray.\n",
      "  1 not in np.array(board_array)[0:3][0:3]\n"
     ]
    },
    {
     "data": {
      "text/plain": [
       "False"
      ]
     },
     "execution_count": 19,
     "metadata": {},
     "output_type": "execute_result"
    }
   ],
   "source": [
    "1 not in np.array(board_array)[0:3][0:3]"
   ]
  },
  {
   "cell_type": "code",
   "execution_count": 20,
   "id": "5e39fd1d",
   "metadata": {},
   "outputs": [
    {
     "name": "stderr",
     "output_type": "stream",
     "text": [
      "C:\\Users\\Daniel\\AppData\\Local\\Temp\\ipykernel_15944\\355059937.py:1: VisibleDeprecationWarning: Creating an ndarray from ragged nested sequences (which is a list-or-tuple of lists-or-tuples-or ndarrays with different lengths or shapes) is deprecated. If you meant to do this, you must specify 'dtype=object' when creating the ndarray.\n",
      "  2 not in np.array(board_array)[0:3][0:3]\n"
     ]
    },
    {
     "data": {
      "text/plain": [
       "False"
      ]
     },
     "execution_count": 20,
     "metadata": {},
     "output_type": "execute_result"
    }
   ],
   "source": [
    "2 not in np.array(board_array)[0:3][0:3]"
   ]
  },
  {
   "cell_type": "code",
   "execution_count": 25,
   "id": "274ef8fc",
   "metadata": {},
   "outputs": [
    {
     "name": "stdout",
     "output_type": "stream",
     "text": [
      "[5 0 0 4 6 7 3 0 9]\n",
      "[9 0 3 8 1 list([1, 2, 3, 4, 5, 6, 7, 8, 9]) 4 2 7]\n",
      "[1 7 4 2 list([1, 2, 3, 4, 5, 6, 7, 8, 9]) 3 0 0 0]\n",
      "[2 3 1 9 7 6 8 5 4]\n",
      "[8 5 7 1 2 4 0 9 0]\n",
      "[4 9 6 3 0 8 1 7 2]\n",
      "[0 0 0 0 8 9 2 6 0]\n",
      "[7 8 2 6 4 1 0 0 5]\n",
      "[0 1 0 0 0 0 7 0 8]\n"
     ]
    }
   ],
   "source": [
    "for i in range(9):\n",
    "    print(np.array(board_array, dtype=object)[i])"
   ]
  },
  {
   "cell_type": "code",
   "execution_count": 26,
   "id": "7fe85822",
   "metadata": {},
   "outputs": [
    {
     "name": "stdout",
     "output_type": "stream",
     "text": [
      "[5 0 0 4 6 7 3 0 9]\n"
     ]
    }
   ],
   "source": [
    "print(np.array(board_array, dtype=object)[:][0])"
   ]
  },
  {
   "cell_type": "code",
   "execution_count": 27,
   "id": "3be51dcb",
   "metadata": {},
   "outputs": [
    {
     "name": "stdout",
     "output_type": "stream",
     "text": [
      "<generator object <genexpr> at 0x0000022B892F0970>\n"
     ]
    }
   ],
   "source": [
    "board_array = [ [5,0,0, 4,6,7, 3,0,9],\n",
    "                [9,0,3, 8,1,0, 4,2,7],\n",
    "                [1,7,4, 2,0,3, 0,0,0],\n",
    "\n",
    "                [2,3,1, 9,7,6, 8,5,4],\n",
    "                [8,5,7, 1,2,4, 0,9,0],\n",
    "                [4,9,6, 3,0,8, 1,7,2],\n",
    "\n",
    "                [0,0,0, 0,8,9, 2,6,0],\n",
    "                [7,8,2, 6,4,1, 0,0,5],\n",
    "                [0,1,0, 0,0,0, 7,0,8]\n",
    "                ]\n",
    "\n",
    "print(row[0] for row in board_array)"
   ]
  },
  {
   "cell_type": "code",
   "execution_count": 35,
   "id": "d3c2a76c",
   "metadata": {},
   "outputs": [
    {
     "name": "stdout",
     "output_type": "stream",
     "text": [
      "[[5 list([2, 6, 8]) list([2, 6, 8]) 4 6 7 3 list([1, 5, 6, 8]) 9]\n",
      " [9 list([2, 6, 8]) 3 8 1 list([5, 9]) 4 2 7]\n",
      " [1 7 4 2 list([5, 9]) 3 list([5, 9]) list([1, 5, 6, 8])\n",
      "  list([1, 5, 6, 8])]\n",
      " [2 3 1 9 7 6 8 5 4]\n",
      " [8 5 7 1 2 4 list([5]) 9 list([3, 6])]\n",
      " [4 9 6 3 list([5]) 8 1 7 2]\n",
      " [0 0 0 0 8 9 2 6 list([3, 6])]\n",
      " [7 8 2 6 4 1 list([2, 3, 5, 7]) list([1, 3, 4, 9]) 5]\n",
      " [list([3, 4, 5, 6, 9]) 1 list([3, 4, 5, 6, 9]) list([3, 4, 5, 6, 9])\n",
      "  list([2, 3, 5, 7]) list([2, 3, 5, 7]) 7 list([1, 3, 4, 9]) 8]]\n"
     ]
    },
    {
     "name": "stderr",
     "output_type": "stream",
     "text": [
      "C:\\Users\\Daniel\\AppData\\Local\\Temp\\ipykernel_15944\\3710534419.py:26: VisibleDeprecationWarning: Creating an ndarray from ragged nested sequences (which is a list-or-tuple of lists-or-tuples-or ndarrays with different lengths or shapes) is deprecated. If you meant to do this, you must specify 'dtype=object' when creating the ndarray.\n",
      "  if i not in np.array(board_array)[0:3, 6:9]:\n",
      "C:\\Users\\Daniel\\AppData\\Local\\Temp\\ipykernel_15944\\3710534419.py:20: VisibleDeprecationWarning: Creating an ndarray from ragged nested sequences (which is a list-or-tuple of lists-or-tuples-or ndarrays with different lengths or shapes) is deprecated. If you meant to do this, you must specify 'dtype=object' when creating the ndarray.\n",
      "  if i not in np.array(board_array)[0:3, 0:3]:\n",
      "C:\\Users\\Daniel\\AppData\\Local\\Temp\\ipykernel_15944\\3710534419.py:23: VisibleDeprecationWarning: Creating an ndarray from ragged nested sequences (which is a list-or-tuple of lists-or-tuples-or ndarrays with different lengths or shapes) is deprecated. If you meant to do this, you must specify 'dtype=object' when creating the ndarray.\n",
      "  if i not in np.array(board_array)[0:3, 3:6]:\n",
      "C:\\Users\\Daniel\\AppData\\Local\\Temp\\ipykernel_15944\\3710534419.py:30: VisibleDeprecationWarning: Creating an ndarray from ragged nested sequences (which is a list-or-tuple of lists-or-tuples-or ndarrays with different lengths or shapes) is deprecated. If you meant to do this, you must specify 'dtype=object' when creating the ndarray.\n",
      "  if i not in np.array(board_array)[3:6, 0:3]:\n",
      "C:\\Users\\Daniel\\AppData\\Local\\Temp\\ipykernel_15944\\3710534419.py:33: VisibleDeprecationWarning: Creating an ndarray from ragged nested sequences (which is a list-or-tuple of lists-or-tuples-or ndarrays with different lengths or shapes) is deprecated. If you meant to do this, you must specify 'dtype=object' when creating the ndarray.\n",
      "  if i not in np.array(board_array)[3:6, 3:6]:\n",
      "C:\\Users\\Daniel\\AppData\\Local\\Temp\\ipykernel_15944\\3710534419.py:36: VisibleDeprecationWarning: Creating an ndarray from ragged nested sequences (which is a list-or-tuple of lists-or-tuples-or ndarrays with different lengths or shapes) is deprecated. If you meant to do this, you must specify 'dtype=object' when creating the ndarray.\n",
      "  if i not in np.array(board_array)[3:6, 6:9]:\n",
      "C:\\Users\\Daniel\\AppData\\Local\\Temp\\ipykernel_15944\\3710534419.py:40: VisibleDeprecationWarning: Creating an ndarray from ragged nested sequences (which is a list-or-tuple of lists-or-tuples-or ndarrays with different lengths or shapes) is deprecated. If you meant to do this, you must specify 'dtype=object' when creating the ndarray.\n",
      "  if i not in np.array(board_array)[6:9, 0:3]:\n",
      "C:\\Users\\Daniel\\AppData\\Local\\Temp\\ipykernel_15944\\3710534419.py:43: VisibleDeprecationWarning: Creating an ndarray from ragged nested sequences (which is a list-or-tuple of lists-or-tuples-or ndarrays with different lengths or shapes) is deprecated. If you meant to do this, you must specify 'dtype=object' when creating the ndarray.\n",
      "  if i not in np.array(board_array)[6:9, 3:6]:\n",
      "C:\\Users\\Daniel\\AppData\\Local\\Temp\\ipykernel_15944\\3710534419.py:46: VisibleDeprecationWarning: Creating an ndarray from ragged nested sequences (which is a list-or-tuple of lists-or-tuples-or ndarrays with different lengths or shapes) is deprecated. If you meant to do this, you must specify 'dtype=object' when creating the ndarray.\n",
      "  if i not in np.array(board_array)[6:9, 6:9]:\n",
      "C:\\Users\\Daniel\\AppData\\Local\\Temp\\ipykernel_15944\\3710534419.py:49: VisibleDeprecationWarning: Creating an ndarray from ragged nested sequences (which is a list-or-tuple of lists-or-tuples-or ndarrays with different lengths or shapes) is deprecated. If you meant to do this, you must specify 'dtype=object' when creating the ndarray.\n",
      "  print(np.array(board_array))\n"
     ]
    }
   ],
   "source": [
    "board_array = [ [5,0,0, 4,6,7, 3,0,9],\n",
    "                [9,0,3, 8,1,0, 4,2,7],\n",
    "                [1,7,4, 2,0,3, 0,0,0],\n",
    "\n",
    "                [2,3,1, 9,7,6, 8,5,4],\n",
    "                [8,5,7, 1,2,4, 0,9,0],\n",
    "                [4,9,6, 3,0,8, 1,7,2],\n",
    "\n",
    "                [0,0,0, 0,8,9, 2,6,0],\n",
    "                [7,8,2, 6,4,1, 0,0,5],\n",
    "                [0,1,0, 0,0,0, 7,0,8]\n",
    "                ]\n",
    "\n",
    "\n",
    "for i in range(1,10):\n",
    "    for j in range(9):\n",
    "        for k in range(9):\n",
    "                    if j <=3:\n",
    "                        if k <=3:\n",
    "                            if i not in np.array(board_array)[0:3, 0:3]:\n",
    "                                add_possibilities(board_array)\n",
    "                        elif k <=6 and k > 3:\n",
    "                            if i not in np.array(board_array)[0:3, 3:6]:\n",
    "                                add_possibilities(board_array)\n",
    "                        elif k <=9 and k > 6:\n",
    "                            if i not in np.array(board_array)[0:3, 6:9]:\n",
    "                                add_possibilities(board_array)\n",
    "                    elif j <=6 and j > 3:\n",
    "                        if k <=3:\n",
    "                            if i not in np.array(board_array)[3:6, 0:3]:\n",
    "                                add_possibilities(board_array)\n",
    "                        elif k <=6 and k > 3:\n",
    "                            if i not in np.array(board_array)[3:6, 3:6]:\n",
    "                                add_possibilities(board_array)\n",
    "                        elif k <=9 and k > 6:\n",
    "                            if i not in np.array(board_array)[3:6, 6:9]:\n",
    "                                add_possibilities(board_array)\n",
    "                    elif j <=9 and j > 6:\n",
    "                        if k <=3:\n",
    "                            if i not in np.array(board_array)[6:9, 0:3]:\n",
    "                                add_possibilities(board_array)\n",
    "                        elif k <=6 and k > 3:\n",
    "                            if i not in np.array(board_array)[6:9, 3:6]:\n",
    "                                add_possibilities(board_array)\n",
    "                        elif k <=9 and k > 6:\n",
    "                            if i not in np.array(board_array)[6:9, 6:9]:\n",
    "                                add_possibilities(board_array)\n",
    "                                \n",
    "print(np.array(board_array))"
   ]
  },
  {
   "cell_type": "code",
   "execution_count": 37,
   "id": "97b7004c",
   "metadata": {},
   "outputs": [
    {
     "name": "stdout",
     "output_type": "stream",
     "text": [
      "[[5 list([2, 6, 8]) list([2, 6, 8]) 4 6 7 3 list([1, 5, 6, 8]) 9]\n",
      " [9 list([2, 6, 8]) 3 8 1 list([5, 9]) 4 2 7]\n",
      " [1 7 4 2 list([5, 9]) 3 list([5, 9]) list([1, 5, 6, 8])\n",
      "  list([1, 5, 6, 8])]\n",
      " [2 3 1 9 7 6 8 5 4]\n",
      " [8 5 7 1 2 4 list([5]) 9 list([3, 6])]\n",
      " [4 9 6 3 list([5]) 8 1 7 2]\n",
      " [0 0 0 0 8 9 2 6 list([3, 6])]\n",
      " [7 8 2 6 4 1 list([2, 3, 5, 7]) list([1, 3, 4, 9]) 5]\n",
      " [list([3, 4, 5, 6, 9]) 1 list([3, 4, 5, 6, 9]) list([3, 4, 5, 6, 9])\n",
      "  list([2, 3, 5, 7]) list([2, 3, 5, 7]) 7 list([1, 3, 4, 9]) 8]]\n"
     ]
    }
   ],
   "source": [
    "board_array = [ [5,0,0, 4,6,7, 3,0,9],\n",
    "                [9,0,3, 8,1,0, 4,2,7],\n",
    "                [1,7,4, 2,0,3, 0,0,0],\n",
    "\n",
    "                [2,3,1, 9,7,6, 8,5,4],\n",
    "                [8,5,7, 1,2,4, 0,9,0],\n",
    "                [4,9,6, 3,0,8, 1,7,2],\n",
    "\n",
    "                [0,0,0, 0,8,9, 2,6,0],\n",
    "                [7,8,2, 6,4,1, 0,0,5],\n",
    "                [0,1,0, 0,0,0, 7,0,8]\n",
    "                ]\n",
    "\n",
    "\n",
    "for i in range(1,10):\n",
    "    for j in range(9):\n",
    "        for k in range(9):\n",
    "                    if j <=3:\n",
    "                        if k <=3:\n",
    "                            if i not in np.array(board_array,dtype=object)[0:3, 0:3]:\n",
    "                                add_possibilities(board_array)\n",
    "                        elif k <=6 and k > 3:\n",
    "                            if i not in np.array(board_array,dtype=object)[0:3, 3:6]:\n",
    "                                add_possibilities(board_array)\n",
    "                        elif k <=9 and k > 6:\n",
    "                            if i not in np.array(board_array,dtype=object)[0:3, 6:9]:\n",
    "                                add_possibilities(board_array)\n",
    "                    elif j <=6 and j > 3:\n",
    "                        if k <=3:\n",
    "                            if i not in np.array(board_array,dtype=object)[3:6, 0:3]:\n",
    "                                add_possibilities(board_array)\n",
    "                        elif k <=6 and k > 3:\n",
    "                            if i not in np.array(board_array,dtype=object)[3:6, 3:6]:\n",
    "                                add_possibilities(board_array)\n",
    "                        elif k <=9 and k > 6:\n",
    "                            if i not in np.array(board_array,dtype=object)[3:6, 6:9]:\n",
    "                                add_possibilities(board_array)\n",
    "                    elif j <=9 and j > 6:\n",
    "                        if k <=3:\n",
    "                            if i not in np.array(board_array,dtype=object)[6:9, 0:3]:\n",
    "                                add_possibilities(board_array)\n",
    "                        elif k <=6 and k > 3:\n",
    "                            if i not in np.array(board_array,dtype=object)[6:9, 3:6]:\n",
    "                                add_possibilities(board_array)\n",
    "                        elif k <=9 and k > 6:\n",
    "                            if i not in np.array(board_array,dtype=object)[6:9, 6:9]:\n",
    "                                add_possibilities(board_array)\n",
    "                                \n",
    "print(np.array(board_array,dtype=object))"
   ]
  },
  {
   "cell_type": "code",
   "execution_count": 38,
   "id": "d0772235",
   "metadata": {},
   "outputs": [
    {
     "ename": "IndentationError",
     "evalue": "expected an indented block (3053004444.py, line 4)",
     "output_type": "error",
     "traceback": [
      "\u001b[1;36m  Input \u001b[1;32mIn [38]\u001b[1;36m\u001b[0m\n\u001b[1;33m    elif k <=6 and k > 3:\u001b[0m\n\u001b[1;37m    ^\u001b[0m\n\u001b[1;31mIndentationError\u001b[0m\u001b[1;31m:\u001b[0m expected an indented block\n"
     ]
    }
   ],
   "source": [
    "if j <=3:\n",
    "    if k <=3:\n",
    "        if i not in np.array(board_array,dtype=object)[0:3, 0:3]:\n",
    "    elif k <=6 and k > 3:\n",
    "        if i not in np.array(board_array,dtype=object)[0:3, 3:6]:\n",
    "    elif k <=9 and k > 6:\n",
    "        if i not in np.array(board_array,dtype=object)[0:3, 6:9]:\n",
    "elif j <=6 and j > 3:\n",
    "    if k <=3:\n",
    "        if i not in np.array(board_array,dtype=object)[3:6, 0:3]:\n",
    "    elif k <=6 and k > 3:\n",
    "        if i not in np.array(board_array,dtype=object)[3:6, 3:6]:\n",
    "    elif k <=9 and k > 6:\n",
    "        if i not in np.array(board_array,dtype=object)[3:6, 6:9]:\n",
    "elif j <=9 and j > 6:\n",
    "    if k <=3:\n",
    "        if i not in np.array(board_array,dtype=object)[6:9, 0:3]:\n",
    "    elif k <=6 and k > 3:\n",
    "        if i not in np.array(board_array,dtype=object)[6:9, 3:6]:\n",
    "    elif k <=9 and k > 6:\n",
    "        if i not in np.array(board_array,dtype=object)[6:9, 6:9]:"
   ]
  },
  {
   "cell_type": "code",
   "execution_count": null,
   "id": "6ff2bbeb",
   "metadata": {},
   "outputs": [],
   "source": [
    "if j <=3:\n",
    "    if k <=3:\n",
    "        if i not in np.array(board_array,dtype=object)[0:3, 0:3]:\n",
    "            add_possibilities(board_array)\n",
    "    elif k <=6 and k > 3:\n",
    "        if i not in np.array(board_array,dtype=object)[0:3, 3:6]:\n",
    "            add_possibilities(board_array)\n",
    "    elif k <=9 and k > 6:\n",
    "        if i not in np.array(board_array,dtype=object)[0:3, 6:9]:\n",
    "            add_possibilities(board_array)\n",
    "elif j <=6 and j > 3:\n",
    "    if k <=3:\n",
    "        if i not in np.array(board_array,dtype=object)[3:6, 0:3]:\n",
    "            add_possibilities(board_array)\n",
    "    elif k <=6 and k > 3:\n",
    "        if i not in np.array(board_array,dtype=object)[3:6, 3:6]:\n",
    "            add_possibilities(board_array)\n",
    "    elif k <=9 and k > 6:\n",
    "        if i not in np.array(board_array,dtype=object)[3:6, 6:9]:\n",
    "            add_possibilities(board_array)\n",
    "elif j <=9 and j > 6:\n",
    "    if k <=3:\n",
    "        if i not in np.array(board_array,dtype=object)[6:9, 0:3]:\n",
    "            add_possibilities(board_array)\n",
    "    elif k <=6 and k > 3:\n",
    "        if i not in np.array(board_array,dtype=object)[6:9, 3:6]:\n",
    "            add_possibilities(board_array)\n",
    "    elif k <=9 and k > 6:\n",
    "        if i not in np.array(board_array,dtype=object)[6:9, 6:9]:\n",
    "            add_possibilities(board_array)"
   ]
  }
 ],
 "metadata": {
  "kernelspec": {
   "display_name": "Python 3 (ipykernel)",
   "language": "python",
   "name": "python3"
  },
  "language_info": {
   "codemirror_mode": {
    "name": "ipython",
    "version": 3
   },
   "file_extension": ".py",
   "mimetype": "text/x-python",
   "name": "python",
   "nbconvert_exporter": "python",
   "pygments_lexer": "ipython3",
   "version": "3.9.12"
  }
 },
 "nbformat": 4,
 "nbformat_minor": 5
}
