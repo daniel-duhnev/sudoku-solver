{
 "cells": [
  {
   "cell_type": "markdown",
   "id": "10b45c98",
   "metadata": {},
   "source": [
    "# Sudoku solver\n",
    "\n",
    "## 1. Sudoku board"
   ]
  },
  {
   "cell_type": "markdown",
   "id": "676b0d86",
   "metadata": {},
   "source": [
    "Create a legit sudoku board from scratch"
   ]
  },
  {
   "cell_type": "code",
   "execution_count": 1,
   "id": "a68fc0a9",
   "metadata": {},
   "outputs": [],
   "source": [
    "import numpy as np"
   ]
  },
  {
   "cell_type": "code",
   "execution_count": null,
   "id": "1b873775",
   "metadata": {},
   "outputs": [],
   "source": [
    "# Sidetrack - below is a function that generates 500 random numbers between 1 and 1 million and then checks their average\n",
    "# I wanted to see if I would roughly get a mean of half a million and indeed I do\n",
    "# To see these results even better, I could plot a bar chart with groups of numbers of range 100 (i.e. 1-100,101-200, etc.)\n",
    "# on the x-axis and their occurance in the arrays generated on the y-axis\n",
    "\n",
    "import random\n",
    "\n",
    "array = []\n",
    "\n",
    "for i in range(500):\n",
    "    x = random.randint(1,1000000)\n",
    "    array.append(x)\n",
    "#     print(x)\n",
    "#     print(array)\n",
    "\n",
    "sum_terms = sum(array)\n",
    "num_terms = len(array)\n",
    "mean = sum_terms/num_terms\n",
    "print(int(round(mean,0)))"
   ]
  },
  {
   "cell_type": "code",
   "execution_count": null,
   "id": "1521de23",
   "metadata": {},
   "outputs": [],
   "source": [
    "# import matplotlib.pyplot as plt\n",
    "# %matplotlib inline\n",
    "# plt.style.use('ggplot')\n",
    "\n",
    "# x_axis = []\n",
    "# for i in range(1,100):\n",
    "#     x_axis.append(i*100)\n",
    "# print(x_axis)\n",
    "    \n",
    "\n",
    "# energy = [5, 6, 15, 22, 24, 8]\n",
    "\n",
    "# x_pos = [i for i, _ in enumerate(x)]\n",
    "\n",
    "# plt.bar(x_pos, energy, color='green')\n",
    "# plt.xlabel(\"Energy Source\")\n",
    "# plt.ylabel(\"Energy Output (GJ)\")\n",
    "# plt.title(\"Energy output from various fuel sources\")\n",
    "\n",
    "# plt.xticks(x_pos, x)\n",
    "\n",
    "# plt.show()"
   ]
  },
  {
   "cell_type": "code",
   "execution_count": null,
   "id": "bff72e8d",
   "metadata": {},
   "outputs": [],
   "source": [
    "# back to sudoku board\n",
    "\n",
    "empty_board= [ [0,0,0, 0,0,0, 0,0,0],\n",
    "               [0,0,0, 0,0,0, 0,0,0],\n",
    "               [0,0,0, 0,0,0, 0,0,0],\n",
    "\n",
    "               [0,0,0, 0,0,0, 0,0,0],\n",
    "               [0,0,0, 0,0,0, 0,0,0],\n",
    "               [0,0,0, 0,0,0, 0,0,0],\n",
    "\n",
    "               [0,0,0, 0,0,0, 0,0,0],\n",
    "               [0,0,0, 0,0,0, 0,0,0],\n",
    "               [0,0,0, 0,0,0, 0,0,0]\n",
    "              ]\n",
    "\n",
    "empty_board_2 = [ [ [[0],[0],[0]],\n",
    "                    [[0],[0],[0]],\n",
    "                    [[0],[0],[0]]\n",
    "                  ],[ [[0],[0],[0]],\n",
    "                    [[0],[0],[0]],\n",
    "                    [[0],[0],[0]]\n",
    "                  ]\n",
    "                ]"
   ]
  },
  {
   "cell_type": "code",
   "execution_count": null,
   "id": "76ab28ab",
   "metadata": {},
   "outputs": [],
   "source": [
    "import numpy as np\n",
    "\n",
    "# explore different object types - np.matrix\n",
    "a = np.matrix('1 2; 3 4')\n",
    "b = np.matrix([[1, 2], [3, 4]])\n",
    "\n",
    "print(a)\n",
    "print(b)"
   ]
  },
  {
   "cell_type": "code",
   "execution_count": null,
   "id": "058e27c6",
   "metadata": {},
   "outputs": [],
   "source": [
    "c = np.matrix('[0] [0];[0] [0]')\n",
    "print(c,\"\\n\")\n",
    "\n",
    "d = np.matrix([[0, 0], [0, 0]])\n",
    "print(d)\n",
    "\n",
    "# f = np.matrix([[[0], [0]], [[0], [0]]])\n",
    "# print(f)\n",
    "# does not work; returns \"matrix must be 2-dimensional\""
   ]
  },
  {
   "cell_type": "code",
   "execution_count": null,
   "id": "7da460ca",
   "metadata": {},
   "outputs": [],
   "source": [
    "A = np.matrix('[0] [0] [0]; [0] [0] [0]; [0] [0] [0]')\n",
    "print(A,\"\\n\")\n",
    "\n",
    "# modify elements of the matrix\n",
    "A[A<2]=1\n",
    "print(A,\"\\n\")\n",
    "\n",
    "M = np.matrix([[0, 0, 0], [0, 0, 0], [0, 0, 0]])\n",
    "print(M,\"\\n\")\n",
    "\n",
    "M[M<1]=1\n",
    "print(M,\"\\n\")"
   ]
  },
  {
   "cell_type": "code",
   "execution_count": null,
   "id": "90c012ea",
   "metadata": {},
   "outputs": [],
   "source": [
    "# try a different method\n",
    "\n",
    "A = np.ones(9)*0\n",
    "print(A)\n",
    "A = A.astype(int)\n",
    "print(A)\n",
    "A = A.reshape(3,3)\n",
    "print(A)\n",
    "A[A<2]=0\n",
    "print(A)"
   ]
  },
  {
   "cell_type": "code",
   "execution_count": 2,
   "id": "4d8077c7",
   "metadata": {},
   "outputs": [
    {
     "name": "stdout",
     "output_type": "stream",
     "text": [
      "[[0, 0, 0, 0, 0, 0, 0, 0, 0], [0, 0, 0, 0, 0, 0, 0, 0, 0], [0, 0, 0, 0, 0, 0, 0, 0, 0], [0, 0, 0, 0, 0, 0, 0, 0, 0], [0, 0, 0, 0, 0, 0, 0, 0, 0], [0, 0, 0, 0, 0, 0, 0, 0, 0], [0, 0, 0, 0, 0, 0, 0, 0, 0], [0, 0, 0, 0, 0, 0, 0, 0, 0], [0, 0, 0, 0, 0, 0, 0, 0, 0]]\n"
     ]
    }
   ],
   "source": [
    "# back to ready empty board\n",
    "\n",
    "empty_board= [ [0,0,0, 0,0,0, 0,0,0],\n",
    "               [0,0,0, 0,0,0, 0,0,0],\n",
    "               [0,0,0, 0,0,0, 0,0,0],\n",
    "\n",
    "               [0,0,0, 0,0,0, 0,0,0],\n",
    "               [0,0,0, 0,0,0, 0,0,0],\n",
    "               [0,0,0, 0,0,0, 0,0,0],\n",
    "\n",
    "               [0,0,0, 0,0,0, 0,0,0],\n",
    "               [0,0,0, 0,0,0, 0,0,0],\n",
    "               [0,0,0, 0,0,0, 0,0,0]\n",
    "              ]\n",
    "\n",
    "print(empty_board)"
   ]
  },
  {
   "cell_type": "code",
   "execution_count": 3,
   "id": "99d4b68b",
   "metadata": {},
   "outputs": [
    {
     "name": "stdout",
     "output_type": "stream",
     "text": [
      "[[0 0 0 0 0 0 0 0 0]\n",
      " [0 0 0 0 0 0 0 0 0]\n",
      " [0 0 0 0 0 0 0 0 0]\n",
      " [0 0 0 0 0 0 0 0 0]\n",
      " [0 0 0 0 0 0 0 0 0]\n",
      " [0 0 0 0 0 0 0 0 0]\n",
      " [0 0 0 0 0 0 0 0 0]\n",
      " [0 0 0 0 0 0 0 0 0]\n",
      " [0 0 0 0 0 0 0 0 0]]\n",
      "\n",
      "The shape of the above sudoku board matrix is: (9, 9)\n"
     ]
    }
   ],
   "source": [
    "# convert array to matrix using numpy\n",
    "\n",
    "matrix_board = np.asmatrix(empty_board)\n",
    "print(matrix_board)\n",
    "print(\"\\nThe shape of the above sudoku board matrix is:\",matrix_board.shape)"
   ]
  },
  {
   "cell_type": "markdown",
   "id": "f5a30aa7",
   "metadata": {},
   "source": [
    "First problem to solve - Leave the first number as zero and the rest from the first row going from 2 to 9. Find an algorithm that will place a 1 on the place of the first element (1,1) of the sudoku board matrix."
   ]
  },
  {
   "cell_type": "code",
   "execution_count": 6,
   "id": "e9988d9e",
   "metadata": {},
   "outputs": [
    {
     "name": "stdout",
     "output_type": "stream",
     "text": [
      "[[0 0 0 0 0 0 0 0 0]]\n",
      "SHAPE: (1, 9)\n",
      "LENGTH: 9\n",
      "TYPE <class 'numpy.matrix'> \n",
      "\n",
      "[[0 0 0 0 0 0 0 0 0]]\n",
      "SHAPE: (1, 9)\n",
      "LENGTH: 1\n",
      "TYPE <class 'numpy.ndarray'> \n",
      "\n",
      "0 \n",
      "\n",
      "[0 0 0 0 0 0 0 0 0]\n",
      "SHAPE: (9,)\n",
      "LENGTH: 9\n",
      "TYPE <class 'numpy.ndarray'> \n",
      "\n",
      "[0 0 0 0 0 0 0 0 0]\n",
      "SHAPE: ()\n",
      "TYPE <class 'numpy.int32'> \n",
      "\n"
     ]
    }
   ],
   "source": [
    "print(matrix_board[8][0])\n",
    "print(\"SHAPE:\",np.shape(matrix_board[8][0]))\n",
    "print(\"LENGTH:\",len(matrix_board))\n",
    "print(\"TYPE\",type(matrix_board[8][0]),\"\\n\")\n",
    "\n",
    "row_array = np.array(matrix_board[8][0])\n",
    "print(np.array(matrix_board[8][0]))\n",
    "print(\"SHAPE:\",np.shape(row_array))\n",
    "print(\"LENGTH:\",len(row_array))\n",
    "print(\"TYPE\",type(row_array),\"\\n\")\n",
    "\n",
    "print(row_array[0][0],\"\\n\")\n",
    "\n",
    "print(row_array[0])\n",
    "print(\"SHAPE:\",np.shape(row_array[0]))\n",
    "print(\"LENGTH:\",len(row_array[0]))\n",
    "print(\"TYPE\",type(row_array[0]),\"\\n\")\n",
    "\n",
    "# probably wont need to use this object\n",
    "int_array = row_array[0].astype(int)\n",
    "print(int_array)\n",
    "print(\"SHAPE:\",np.shape(int_array[0]))\n",
    "# print(\"LENGTH:\",len(int_array[0])) - not applicable\n",
    "print(\"TYPE\",type(int_array[0]),\"\\n\")"
   ]
  },
  {
   "cell_type": "code",
   "execution_count": 8,
   "id": "485e7302",
   "metadata": {},
   "outputs": [
    {
     "name": "stdout",
     "output_type": "stream",
     "text": [
      "[[0 2 3 4 5 6 7 8 9]]\n",
      "[0 2 3 4 5 6 7 8 9]\n"
     ]
    }
   ],
   "source": [
    "for i in range(len(row_array[0])-1):\n",
    "    row_array[0][i+1]=i+2\n",
    "    \n",
    "print(row_array)\n",
    "print(row_array[0])"
   ]
  },
  {
   "cell_type": "markdown",
   "id": "4f6668fd",
   "metadata": {},
   "source": [
    "So far I have been able to do the following:\n",
    "- Extract the first row of my sudoku matrix\n",
    "- Leave the first element as zero and add the numbers 2 to 9 until the rest of the row\n",
    "\n",
    "Next steps:\n",
    "- Change the first row of the sudoku board matrix to the array you created above\n",
    "- Create an algorithm that does the following:\n",
    "    - Creates an empty array in the place of all components that are zero. I.e. if the value is zero, then place an empty array in there.\n",
    "    - If the elements in the array dont have the number x, where x belongs to 1-9, then place x inside the empty array\n",
    "    - If the array has only 1 value after the above rule has been applied, then convert the array to an int so that only the number is left."
   ]
  },
  {
   "cell_type": "code",
   "execution_count": 46,
   "id": "75ce0f9e",
   "metadata": {},
   "outputs": [],
   "source": [
    "if 1 not in row_array[0]:\n",
    "    if row_array[0][0] == 0 or isinstance(row_array[0],np.ndarray):\n",
    "        if row_array[0][0] != 1:\n",
    "            row_array[0][0] = 1\n",
    "            print(row_array)"
   ]
  },
  {
   "cell_type": "code",
   "execution_count": 40,
   "id": "991cebe7",
   "metadata": {},
   "outputs": [
    {
     "name": "stdout",
     "output_type": "stream",
     "text": [
      "0\n"
     ]
    }
   ],
   "source": [
    "print(row_array[0][0])"
   ]
  },
  {
   "cell_type": "code",
   "execution_count": 18,
   "id": "1d72caf8",
   "metadata": {},
   "outputs": [
    {
     "data": {
      "text/plain": [
       "True"
      ]
     },
     "execution_count": 18,
     "metadata": {},
     "output_type": "execute_result"
    }
   ],
   "source": [
    "1 not in row_array[0]"
   ]
  },
  {
   "cell_type": "code",
   "execution_count": 42,
   "id": "58f05449",
   "metadata": {},
   "outputs": [
    {
     "data": {
      "text/plain": [
       "True"
      ]
     },
     "execution_count": 42,
     "metadata": {},
     "output_type": "execute_result"
    }
   ],
   "source": [
    "row_array[0][0] == 0  or isinstance(row_array[0],np.ndarray)"
   ]
  },
  {
   "cell_type": "code",
   "execution_count": 47,
   "id": "207b1a7f",
   "metadata": {},
   "outputs": [
    {
     "data": {
      "text/plain": [
       "False"
      ]
     },
     "execution_count": 47,
     "metadata": {},
     "output_type": "execute_result"
    }
   ],
   "source": [
    "row_array[0][0] != 1"
   ]
  },
  {
   "cell_type": "markdown",
   "id": "b2989d89",
   "metadata": {},
   "source": [
    "Now I need to put the array back in the matrix"
   ]
  },
  {
   "cell_type": "code",
   "execution_count": 56,
   "id": "1925539f",
   "metadata": {
    "scrolled": true
   },
   "outputs": [
    {
     "name": "stdout",
     "output_type": "stream",
     "text": [
      "[[0 0 0 0 0 0 0 0 0]\n",
      " [0 0 0 0 0 0 0 0 0]\n",
      " [0 0 0 0 0 0 0 0 0]\n",
      " [0 0 0 0 0 0 0 0 0]\n",
      " [0 0 0 0 0 0 0 0 0]\n",
      " [0 0 0 0 0 0 0 0 0]\n",
      " [0 0 0 0 0 0 0 0 0]\n",
      " [0 0 0 0 0 0 0 0 0]\n",
      " [0 0 0 0 0 0 0 0 0]] \n",
      "\n",
      "[[0 0 0 0 0 0 0 0 0]] \n",
      "\n",
      "[[1 2 3 4 5 6 7 8 9]]\n"
     ]
    }
   ],
   "source": [
    "print(matrix_board,\"\\n\")\n",
    "print(matrix_board[0],\"\\n\")\n",
    "print(row_array)"
   ]
  },
  {
   "cell_type": "code",
   "execution_count": 58,
   "id": "1386c466",
   "metadata": {},
   "outputs": [
    {
     "name": "stdout",
     "output_type": "stream",
     "text": [
      "[[1 2 3 4 5 6 7 8 9]\n",
      " [0 0 0 0 0 0 0 0 0]\n",
      " [0 0 0 0 0 0 0 0 0]\n",
      " [0 0 0 0 0 0 0 0 0]\n",
      " [0 0 0 0 0 0 0 0 0]\n",
      " [0 0 0 0 0 0 0 0 0]\n",
      " [0 0 0 0 0 0 0 0 0]\n",
      " [0 0 0 0 0 0 0 0 0]\n",
      " [0 0 0 0 0 0 0 0 0]]\n"
     ]
    }
   ],
   "source": [
    "matrix_board[0] = row_array\n",
    "print(matrix_board)"
   ]
  },
  {
   "cell_type": "markdown",
   "id": "1387d093",
   "metadata": {},
   "source": [
    "success!"
   ]
  },
  {
   "cell_type": "code",
   "execution_count": null,
   "id": "54081cd8",
   "metadata": {},
   "outputs": [],
   "source": []
  }
 ],
 "metadata": {
  "kernelspec": {
   "display_name": "Python 3 (ipykernel)",
   "language": "python",
   "name": "python3"
  },
  "language_info": {
   "codemirror_mode": {
    "name": "ipython",
    "version": 3
   },
   "file_extension": ".py",
   "mimetype": "text/x-python",
   "name": "python",
   "nbconvert_exporter": "python",
   "pygments_lexer": "ipython3",
   "version": "3.9.12"
  }
 },
 "nbformat": 4,
 "nbformat_minor": 5
}
