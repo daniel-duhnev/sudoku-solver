{
 "cells": [
  {
   "cell_type": "markdown",
   "id": "0878c377",
   "metadata": {},
   "source": [
    "Sudoku board - file 3"
   ]
  },
  {
   "cell_type": "code",
   "execution_count": 4,
   "id": "77ef386b",
   "metadata": {},
   "outputs": [],
   "source": [
    "import numpy as np"
   ]
  },
  {
   "cell_type": "code",
   "execution_count": 5,
   "id": "2f8642a0",
   "metadata": {},
   "outputs": [
    {
     "name": "stdout",
     "output_type": "stream",
     "text": [
      "[[5, [1, 2, 8], [1, 2, 8], 4, 6, 7, 3, [1, 2, 8], 9], [9, [5, 6], 3, 8, 1, [5, 6], 4, 2, 7], [1, 7, 4, 2, [5, 6, 8, 9], 3, [5, 6, 8, 9], [5, 6, 8, 9], [5, 6, 8, 9]], [2, 3, 1, 9, 7, 6, 8, 5, 4], [8, 5, 7, 1, 2, 4, [3, 6], 9, [3, 6]], [4, 9, 6, 3, [5], 8, 1, 7, 2], [[1, 3, 4, 5, 7], [1, 3, 4, 5, 7], [1, 3, 4, 5, 7], [1, 3, 4, 5, 7], 8, 9, 2, 6, [1, 3, 4, 5, 7]], [7, 8, 2, 6, 4, 1, [3, 9], [3, 9], 5], [[2, 3, 4, 5, 6, 9], 1, [2, 3, 4, 5, 6, 9], [2, 3, 4, 5, 6, 9], [2, 3, 4, 5, 6, 9], [2, 3, 4, 5, 6, 9], 7, [2, 3, 4, 5, 6, 9], 8]] \n",
      "\n"
     ]
    }
   ],
   "source": [
    "board_array = [ [5,0,0, 4,6,7, 3,0,9],\n",
    "                [9,0,3, 8,1,0, 4,2,7],\n",
    "                [1,7,4, 2,0,3, 0,0,0],\n",
    "\n",
    "                [2,3,1, 9,7,6, 8,5,4],\n",
    "                [8,5,7, 1,2,4, 0,9,0],\n",
    "                [4,9,6, 3,0,8, 1,7,2],\n",
    "\n",
    "                [0,0,0, 0,8,9, 2,6,0],\n",
    "                [7,8,2, 6,4,1, 0,0,5],\n",
    "                [0,1,0, 0,0,0, 7,0,8]\n",
    "                ]\n",
    "\n",
    "for i in range(1,10):\n",
    "    for j in range(1,10):\n",
    "        if i not in board_array[j-1]:\n",
    "            for k in range(1,10):\n",
    "                if board_array[j-1][k-1] == 0:\n",
    "                    if board_array[j-1][k-1] != i:\n",
    "                        board_array[j-1][k-1] = []\n",
    "                        board_array[j-1][k-1].append(i)\n",
    "                elif isinstance(board_array[j-1][k-1],list) and i not in board_array[j-1][k-1]:\n",
    "                    board_array[j-1][k-1].append(i)\n",
    "                    \n",
    "print(board_array,\"\\n\")\n",
    "#print(np.array(board_array))"
   ]
  },
  {
   "cell_type": "code",
   "execution_count": 8,
   "id": "4a1f81bc",
   "metadata": {},
   "outputs": [
    {
     "name": "stdout",
     "output_type": "stream",
     "text": [
      "[[5 0 0 4 6 7 3 0 9]\n",
      " [9 0 3 8 1 0 4 2 7]\n",
      " [1 7 4 2 0 3 0 0 0]\n",
      " [2 3 1 9 7 6 8 5 4]\n",
      " [8 5 7 1 2 4 0 9 0]\n",
      " [4 9 6 3 0 8 1 7 2]\n",
      " [0 0 0 0 8 9 2 6 0]\n",
      " [7 8 2 6 4 1 0 0 5]\n",
      " [0 1 0 0 0 0 7 0 8]]\n"
     ]
    }
   ],
   "source": [
    "board_array = [ [5,0,0, 4,6,7, 3,0,9],\n",
    "                [9,0,3, 8,1,0, 4,2,7],\n",
    "                [1,7,4, 2,0,3, 0,0,0],\n",
    "\n",
    "                [2,3,1, 9,7,6, 8,5,4],\n",
    "                [8,5,7, 1,2,4, 0,9,0],\n",
    "                [4,9,6, 3,0,8, 1,7,2],\n",
    "\n",
    "                [0,0,0, 0,8,9, 2,6,0],\n",
    "                [7,8,2, 6,4,1, 0,0,5],\n",
    "                [0,1,0, 0,0,0, 7,0,8]\n",
    "                ]\n",
    "\n",
    "if 2 not in board_array[0] and 2 not in np.array(board_array)[:,7]:\n",
    "    if board_array[0][7] == 0:\n",
    "        board_array[0][7] = []\n",
    "        board_array[0][7].append(2)\n",
    "    elif isinstance(board_array[0][7],list) and 2 not in board_array[0][7]:\n",
    "        board_array[0][7].append(2)\n",
    "\n",
    "print(np.array(board_array))\n",
    "\n",
    "#it works! - if you like contrast this without adding the AND statement by uncommenting the following piece of code:\n",
    "# if 2 not in board_array[0] :#(and 2 not in np.array(board_array)[:,7]:)\n",
    "#     if board_array[0][7] == 0:\n",
    "#         board_array[0][7] = []\n",
    "#         board_array[0][7].append(2)\n",
    "#     elif isinstance(board_array[0][7],list) and 2 not in board_array[0][7]:\n",
    "#         board_array[0][7].append(2)\n",
    "# print(np.array(board_array))"
   ]
  },
  {
   "cell_type": "code",
   "execution_count": 18,
   "id": "a50ee8db",
   "metadata": {},
   "outputs": [
    {
     "name": "stdout",
     "output_type": "stream",
     "text": [
      "\n",
      "\n",
      " Row rule:\n",
      " [[5 list([1, 2, 8]) list([1, 2, 8]) 4 6 7 3 list([1, 2, 8]) 9]\n",
      " [9 list([5, 6]) 3 8 1 list([5, 6]) 4 2 7]\n",
      " [1 7 4 2 list([5, 6, 8, 9]) 3 list([5, 6, 8, 9]) list([5, 6, 8, 9])\n",
      "  list([5, 6, 8, 9])]\n",
      " [2 3 1 9 7 6 8 5 4]\n",
      " [8 5 7 1 2 4 list([3, 6]) 9 list([3, 6])]\n",
      " [4 9 6 3 list([5]) 8 1 7 2]\n",
      " [list([1, 3, 4, 5, 7]) list([1, 3, 4, 5, 7]) list([1, 3, 4, 5, 7])\n",
      "  list([1, 3, 4, 5, 7]) 8 9 2 6 list([1, 3, 4, 5, 7])]\n",
      " [7 8 2 6 4 1 list([3, 9]) list([3, 9]) 5]\n",
      " [list([2, 3, 4, 5, 6, 9]) 1 list([2, 3, 4, 5, 6, 9])\n",
      "  list([2, 3, 4, 5, 6, 9]) list([2, 3, 4, 5, 6, 9])\n",
      "  list([2, 3, 4, 5, 6, 9]) 7 list([2, 3, 4, 5, 6, 9]) 8]]\n",
      "\n",
      "\n",
      " Column rule:\n",
      " [[5 list([2, 4, 6]) list([5, 8, 9]) 4 6 7 3 list([1, 3, 4, 8]) 9]\n",
      " [9 list([2, 4, 6]) 3 8 1 list([2, 5]) 4 2 7]\n",
      " [1 7 4 2 list([3, 5, 9]) 3 list([5, 6, 9]) list([1, 3, 4, 8])\n",
      "  list([1, 3, 6])]\n",
      " [2 3 1 9 7 6 8 5 4]\n",
      " [8 5 7 1 2 4 list([5, 6, 9]) 9 list([1, 3, 6])]\n",
      " [4 9 6 3 list([3, 5, 9]) 8 1 7 2]\n",
      " [list([3, 6]) list([2, 4, 6]) list([5, 8, 9]) list([5, 7]) 8 9 2 6\n",
      "  list([1, 3, 6])]\n",
      " [7 8 2 6 4 1 list([5, 6, 9]) list([1, 3, 4, 8]) 5]\n",
      " [list([3, 6]) 1 list([5, 8, 9]) list([5, 7]) list([3, 5, 9])\n",
      "  list([2, 5]) 7 list([1, 3, 4, 8]) 8]]\n",
      "\n",
      "\n",
      " Both rules together:\n",
      " [[5 list([2]) list([8]) 4 6 7 3 list([1, 8]) 9]\n",
      " [9 list([6]) 3 8 1 list([5]) 4 2 7]\n",
      " [1 7 4 2 list([5, 9]) 3 list([5, 6, 9]) list([8]) list([6])]\n",
      " [2 3 1 9 7 6 8 5 4]\n",
      " [8 5 7 1 2 4 list([6]) 9 list([3, 6])]\n",
      " [4 9 6 3 list([5]) 8 1 7 2]\n",
      " [list([3]) list([4]) list([5]) list([5, 7]) 8 9 2 6 list([1, 3])]\n",
      " [7 8 2 6 4 1 list([9]) list([3]) 5]\n",
      " [list([3, 6]) 1 list([5, 9]) list([5]) list([3, 5, 9]) list([2, 5]) 7\n",
      "  list([3, 4]) 8]]\n"
     ]
    },
    {
     "name": "stderr",
     "output_type": "stream",
     "text": [
      "C:\\Users\\Daniel\\AppData\\Local\\Temp\\ipykernel_11044\\1621707753.py:28: VisibleDeprecationWarning: Creating an ndarray from ragged nested sequences (which is a list-or-tuple of lists-or-tuples-or ndarrays with different lengths or shapes) is deprecated. If you meant to do this, you must specify 'dtype=object' when creating the ndarray.\n",
      "  print(\"\\n\"*2, \"Row rule:\\n\", np.array(board_array))\n",
      "C:\\Users\\Daniel\\AppData\\Local\\Temp\\ipykernel_11044\\1621707753.py:47: VisibleDeprecationWarning: Creating an ndarray from ragged nested sequences (which is a list-or-tuple of lists-or-tuples-or ndarrays with different lengths or shapes) is deprecated. If you meant to do this, you must specify 'dtype=object' when creating the ndarray.\n",
      "  if i not in np.array(board_array)[:,j-1]:\n",
      "C:\\Users\\Daniel\\AppData\\Local\\Temp\\ipykernel_11044\\1621707753.py:56: VisibleDeprecationWarning: Creating an ndarray from ragged nested sequences (which is a list-or-tuple of lists-or-tuples-or ndarrays with different lengths or shapes) is deprecated. If you meant to do this, you must specify 'dtype=object' when creating the ndarray.\n",
      "  print(\"\\n\"*2, \"Column rule:\\n\", np.array(board_array))\n",
      "C:\\Users\\Daniel\\AppData\\Local\\Temp\\ipykernel_11044\\1621707753.py:76: VisibleDeprecationWarning: Creating an ndarray from ragged nested sequences (which is a list-or-tuple of lists-or-tuples-or ndarrays with different lengths or shapes) is deprecated. If you meant to do this, you must specify 'dtype=object' when creating the ndarray.\n",
      "  if i not in board_array[j-1] and i not in np.array(board_array)[:,k-1]:\n",
      "C:\\Users\\Daniel\\AppData\\Local\\Temp\\ipykernel_11044\\1621707753.py:85: VisibleDeprecationWarning: Creating an ndarray from ragged nested sequences (which is a list-or-tuple of lists-or-tuples-or ndarrays with different lengths or shapes) is deprecated. If you meant to do this, you must specify 'dtype=object' when creating the ndarray.\n",
      "  print(\"\\n\"*2, \"Both rules together:\\n\", np.array(board_array))\n"
     ]
    }
   ],
   "source": [
    "# APPLY ROW RULE ONLY:\n",
    "\n",
    "board_array = [ [5,0,0, 4,6,7, 3,0,9],\n",
    "                [9,0,3, 8,1,0, 4,2,7],\n",
    "                [1,7,4, 2,0,3, 0,0,0],\n",
    "\n",
    "                [2,3,1, 9,7,6, 8,5,4],\n",
    "                [8,5,7, 1,2,4, 0,9,0],\n",
    "                [4,9,6, 3,0,8, 1,7,2],\n",
    "\n",
    "                [0,0,0, 0,8,9, 2,6,0],\n",
    "                [7,8,2, 6,4,1, 0,0,5],\n",
    "                [0,1,0, 0,0,0, 7,0,8]\n",
    "                ]\n",
    "\n",
    "for i in range(1,10):\n",
    "    for j in range(1,10):\n",
    "        if i not in board_array[j-1]:\n",
    "            for k in range(1,10):\n",
    "                if board_array[j-1][k-1] == 0:\n",
    "                    if board_array[j-1][k-1] != i:\n",
    "                        board_array[j-1][k-1] = []\n",
    "                        board_array[j-1][k-1].append(i)\n",
    "                elif isinstance(board_array[j-1][k-1],list) and i not in board_array[j-1][k-1]:\n",
    "                    board_array[j-1][k-1].append(i)\n",
    "                    \n",
    "#print(board_array,\"\\n\")\n",
    "print(\"\\n\"*2, \"Row rule:\\n\", np.array(board_array))\n",
    "\n",
    "\n",
    "# APPLY COLUMN RULE ONLY:\n",
    "board_array = [ [5,0,0, 4,6,7, 3,0,9],\n",
    "                [9,0,3, 8,1,0, 4,2,7],\n",
    "                [1,7,4, 2,0,3, 0,0,0],\n",
    "\n",
    "                [2,3,1, 9,7,6, 8,5,4],\n",
    "                [8,5,7, 1,2,4, 0,9,0],\n",
    "                [4,9,6, 3,0,8, 1,7,2],\n",
    "\n",
    "                [0,0,0, 0,8,9, 2,6,0],\n",
    "                [7,8,2, 6,4,1, 0,0,5],\n",
    "                [0,1,0, 0,0,0, 7,0,8]\n",
    "                ]\n",
    "\n",
    "for i in range(1,10):\n",
    "    for j in range(1,10):\n",
    "        if i not in np.array(board_array)[:,j-1]:\n",
    "            for k in range(1,10):\n",
    "                if board_array[k-1][j-1] == 0:\n",
    "                    if board_array[k-1][j-1] != i:\n",
    "                        board_array[k-1][j-1] = []\n",
    "                        board_array[k-1][j-1].append(i)\n",
    "                elif isinstance(board_array[k-1][j-1],list) and i not in board_array[k-1][j-1]:\n",
    "                    board_array[k-1][j-1].append(i)\n",
    "\n",
    "print(\"\\n\"*2, \"Column rule:\\n\", np.array(board_array))\n",
    "\n",
    "# NOW ADD THE COLUMN RULE ALONG WITH THE ROW RULE TOGETHER:\n",
    "\n",
    "board_array = [ [5,0,0, 4,6,7, 3,0,9],\n",
    "                [9,0,3, 8,1,0, 4,2,7],\n",
    "                [1,7,4, 2,0,3, 0,0,0],\n",
    "\n",
    "                [2,3,1, 9,7,6, 8,5,4],\n",
    "                [8,5,7, 1,2,4, 0,9,0],\n",
    "                [4,9,6, 3,0,8, 1,7,2],\n",
    "\n",
    "                [0,0,0, 0,8,9, 2,6,0],\n",
    "                [7,8,2, 6,4,1, 0,0,5],\n",
    "                [0,1,0, 0,0,0, 7,0,8]\n",
    "                ]\n",
    "\n",
    "for i in range(1,10):\n",
    "    for j in range(1,10):\n",
    "        for k in range(1,10):\n",
    "            if i not in board_array[j-1] and i not in np.array(board_array)[:,k-1]:\n",
    "                    if board_array[j-1][k-1] == 0:\n",
    "                        if board_array[j-1][k-1] != i:\n",
    "                            board_array[j-1][k-1] = []\n",
    "                            board_array[j-1][k-1].append(i)\n",
    "                    elif isinstance(board_array[j-1][k-1],list) and i not in board_array[j-1][k-1]:\n",
    "                        board_array[j-1][k-1].append(i)\n",
    "                    \n",
    "#print(board_array,\"\\n\")\n",
    "print(\"\\n\"*2, \"Both rules together:\\n\", np.array(board_array))"
   ]
  },
  {
   "cell_type": "code",
   "execution_count": 31,
   "id": "c051c378",
   "metadata": {},
   "outputs": [
    {
     "name": "stdout",
     "output_type": "stream",
     "text": [
      "\n",
      "\n",
      " Both row and column rules applied together:\n",
      " [[5 list([2]) list([8]) 4 6 7 3 list([1, 8]) 9]\n",
      " [9 list([6]) 3 8 1 list([5]) 4 2 7]\n",
      " [1 7 4 2 list([5, 9]) 3 list([5, 6, 9]) list([8]) list([6])]\n",
      " [2 3 1 9 7 6 8 5 4]\n",
      " [8 5 7 1 2 4 list([6]) 9 list([3, 6])]\n",
      " [4 9 6 3 list([5]) 8 1 7 2]\n",
      " [list([3]) list([4]) list([5]) list([5, 7]) 8 9 2 6 list([1, 3])]\n",
      " [7 8 2 6 4 1 list([9]) list([3]) 5]\n",
      " [list([3, 6]) 1 list([5, 9]) list([5]) list([3, 5, 9]) list([2, 5]) 7\n",
      "  list([3, 4]) 8]]\n",
      "\n",
      "\n",
      " [[5 2 8 4 6 7 3 list([1, 8]) 9]\n",
      " [9 6 3 8 1 5 4 2 7]\n",
      " [1 7 4 2 list([5, 9]) 3 list([5, 6, 9]) 8 6]\n",
      " [2 3 1 9 7 6 8 5 4]\n",
      " [8 5 7 1 2 4 6 9 list([3, 6])]\n",
      " [4 9 6 3 5 8 1 7 2]\n",
      " [3 4 5 list([5, 7]) 8 9 2 6 list([1, 3])]\n",
      " [7 8 2 6 4 1 9 3 5]\n",
      " [list([3, 6]) 1 list([5, 9]) 5 list([3, 5, 9]) list([2, 5]) 7\n",
      "  list([3, 4]) 8]]\n"
     ]
    },
    {
     "name": "stderr",
     "output_type": "stream",
     "text": [
      "C:\\Users\\Daniel\\AppData\\Local\\Temp\\ipykernel_11044\\338762454.py:17: VisibleDeprecationWarning: Creating an ndarray from ragged nested sequences (which is a list-or-tuple of lists-or-tuples-or ndarrays with different lengths or shapes) is deprecated. If you meant to do this, you must specify 'dtype=object' when creating the ndarray.\n",
      "  if i not in board_array[j-1] and i not in np.array(board_array)[:,k-1]:\n",
      "C:\\Users\\Daniel\\AppData\\Local\\Temp\\ipykernel_11044\\338762454.py:26: VisibleDeprecationWarning: Creating an ndarray from ragged nested sequences (which is a list-or-tuple of lists-or-tuples-or ndarrays with different lengths or shapes) is deprecated. If you meant to do this, you must specify 'dtype=object' when creating the ndarray.\n",
      "  print(\"\\n\"*2, \"Both row and column rules applied together:\\n\", np.array(board_array))\n",
      "C:\\Users\\Daniel\\AppData\\Local\\Temp\\ipykernel_11044\\338762454.py:34: VisibleDeprecationWarning: Creating an ndarray from ragged nested sequences (which is a list-or-tuple of lists-or-tuples-or ndarrays with different lengths or shapes) is deprecated. If you meant to do this, you must specify 'dtype=object' when creating the ndarray.\n",
      "  print(\"\\n\"*2, np.array(board_array))\n"
     ]
    }
   ],
   "source": [
    "board_array = [ [5,0,0, 4,6,7, 3,0,9],\n",
    "                [9,0,3, 8,1,0, 4,2,7],\n",
    "                [1,7,4, 2,0,3, 0,0,0],\n",
    "\n",
    "                [2,3,1, 9,7,6, 8,5,4],\n",
    "                [8,5,7, 1,2,4, 0,9,0],\n",
    "                [4,9,6, 3,0,8, 1,7,2],\n",
    "\n",
    "                [0,0,0, 0,8,9, 2,6,0],\n",
    "                [7,8,2, 6,4,1, 0,0,5],\n",
    "                [0,1,0, 0,0,0, 7,0,8]\n",
    "                ]\n",
    "\n",
    "for i in range(1,10):\n",
    "    for j in range(1,10):\n",
    "        for k in range(1,10):\n",
    "            if i not in board_array[j-1] and i not in np.array(board_array)[:,k-1]:\n",
    "                    if board_array[j-1][k-1] == 0:\n",
    "                        if board_array[j-1][k-1] != i:\n",
    "                            board_array[j-1][k-1] = []\n",
    "                            board_array[j-1][k-1].append(i)\n",
    "                    elif isinstance(board_array[j-1][k-1], list) and i not in board_array[j-1][k-1]:\n",
    "                        board_array[j-1][k-1].append(i)\n",
    "                    \n",
    "#print(board_array,\"\\n\")\n",
    "print(\"\\n\"*2, \"Both row and column rules applied together:\\n\", np.array(board_array))\n",
    "\n",
    "for i in range(1,10):\n",
    "    for j in range(1,10):\n",
    "        for k in range(1,10):\n",
    "            if isinstance(board_array[j-1][k-1], list) and len(board_array[j-1][k-1]) == 1:\n",
    "                board_array[j-1][k-1] = board_array[j-1][k-1][0]\n",
    "                \n",
    "print(\"\\n\"*2, np.array(board_array))"
   ]
  },
  {
   "cell_type": "code",
   "execution_count": 32,
   "id": "ceba2bd5",
   "metadata": {},
   "outputs": [
    {
     "name": "stdout",
     "output_type": "stream",
     "text": [
      "\n",
      "\n",
      " Both rules together:\n",
      " [[5 2 8 4 6 7 3 list([1, 8]) 9]\n",
      " [9 6 3 8 1 5 4 2 7]\n",
      " [1 7 4 2 list([5, 9]) 3 list([5, 6, 9]) 8 6]\n",
      " [2 3 1 9 7 6 8 5 4]\n",
      " [8 5 7 1 2 4 6 9 list([3, 6])]\n",
      " [4 9 6 3 5 8 1 7 2]\n",
      " [3 4 5 list([5, 7]) 8 9 2 6 list([1, 3])]\n",
      " [7 8 2 6 4 1 9 3 5]\n",
      " [list([3, 6]) 1 list([5, 9]) 5 list([3, 5, 9]) list([2, 5]) 7\n",
      "  list([3, 4]) 8]]\n"
     ]
    },
    {
     "name": "stderr",
     "output_type": "stream",
     "text": [
      "C:\\Users\\Daniel\\AppData\\Local\\Temp\\ipykernel_11044\\1508432985.py:4: VisibleDeprecationWarning: Creating an ndarray from ragged nested sequences (which is a list-or-tuple of lists-or-tuples-or ndarrays with different lengths or shapes) is deprecated. If you meant to do this, you must specify 'dtype=object' when creating the ndarray.\n",
      "  if i not in board_array[j-1] and i not in np.array(board_array)[:,k-1]:\n",
      "C:\\Users\\Daniel\\AppData\\Local\\Temp\\ipykernel_11044\\1508432985.py:13: VisibleDeprecationWarning: Creating an ndarray from ragged nested sequences (which is a list-or-tuple of lists-or-tuples-or ndarrays with different lengths or shapes) is deprecated. If you meant to do this, you must specify 'dtype=object' when creating the ndarray.\n",
      "  print(\"\\n\"*2, \"Both rules together:\\n\", np.array(board_array))\n"
     ]
    }
   ],
   "source": [
    "for i in range(1,10):\n",
    "    for j in range(1,10):\n",
    "        for k in range(1,10):\n",
    "            if i not in board_array[j-1] and i not in np.array(board_array)[:,k-1]:\n",
    "                    if board_array[j-1][k-1] == 0:\n",
    "                        if board_array[j-1][k-1] != i:\n",
    "                            board_array[j-1][k-1] = []\n",
    "                            board_array[j-1][k-1].append(i)\n",
    "                    elif isinstance(board_array[j-1][k-1],list) and i not in board_array[j-1][k-1]:\n",
    "                        board_array[j-1][k-1].append(i)\n",
    "                    \n",
    "#print(board_array,\"\\n\")\n",
    "print(\"\\n\"*2, np.array(board_array))"
   ]
  },
  {
   "cell_type": "markdown",
   "id": "3f381465",
   "metadata": {},
   "source": [
    "NEXT STEP: Remove numbers that can no longer be there after first application of function."
   ]
  },
  {
   "cell_type": "code",
   "execution_count": 33,
   "id": "00f160ed",
   "metadata": {},
   "outputs": [
    {
     "name": "stdout",
     "output_type": "stream",
     "text": [
      "\n",
      "\n",
      " [[5 2 8 4 6 7 3 list([1]) 9]\n",
      " [9 6 3 8 1 5 4 2 7]\n",
      " [1 7 4 2 list([9]) 3 list([5]) 8 6]\n",
      " [2 3 1 9 7 6 8 5 4]\n",
      " [8 5 7 1 2 4 6 9 list([3])]\n",
      " [4 9 6 3 5 8 1 7 2]\n",
      " [3 4 5 list([7]) 8 9 2 6 list([1])]\n",
      " [7 8 2 6 4 1 9 3 5]\n",
      " [list([6]) 1 list([9]) 5 list([3, 9]) list([2]) 7 list([4]) 8]]\n"
     ]
    },
    {
     "name": "stderr",
     "output_type": "stream",
     "text": [
      "C:\\Users\\Daniel\\AppData\\Local\\Temp\\ipykernel_11044\\2497966789.py:4: VisibleDeprecationWarning: Creating an ndarray from ragged nested sequences (which is a list-or-tuple of lists-or-tuples-or ndarrays with different lengths or shapes) is deprecated. If you meant to do this, you must specify 'dtype=object' when creating the ndarray.\n",
      "  if i in board_array[j-1] or i in np.array(board_array)[:,k-1]:\n",
      "C:\\Users\\Daniel\\AppData\\Local\\Temp\\ipykernel_11044\\2497966789.py:8: VisibleDeprecationWarning: Creating an ndarray from ragged nested sequences (which is a list-or-tuple of lists-or-tuples-or ndarrays with different lengths or shapes) is deprecated. If you meant to do this, you must specify 'dtype=object' when creating the ndarray.\n",
      "  print(\"\\n\"*2, np.array(board_array))\n"
     ]
    }
   ],
   "source": [
    "for i in range(1,10):\n",
    "    for j in range(1,10):\n",
    "        for k in range(1,10):\n",
    "            if i in board_array[j-1] or i in np.array(board_array)[:,k-1]:\n",
    "                if isinstance(board_array[j-1][k-1],list) and i in board_array[j-1][k-1]:\n",
    "                    board_array[j-1][k-1].remove(i)\n",
    "                    \n",
    "print(\"\\n\"*2, np.array(board_array))"
   ]
  },
  {
   "cell_type": "code",
   "execution_count": 37,
   "id": "66b79e01",
   "metadata": {},
   "outputs": [
    {
     "name": "stdout",
     "output_type": "stream",
     "text": [
      "\n",
      "\n",
      " [[5 2 8 4 6 7 3 1 9]\n",
      " [9 6 3 8 1 5 4 2 7]\n",
      " [1 7 4 2 9 3 5 8 6]\n",
      " [2 3 1 9 7 6 8 5 4]\n",
      " [8 5 7 1 2 4 6 9 3]\n",
      " [4 9 6 3 5 8 1 7 2]\n",
      " [3 4 5 7 8 9 2 6 1]\n",
      " [7 8 2 6 4 1 9 3 5]\n",
      " [6 1 9 5 list([3, 9]) 2 7 4 8]]\n"
     ]
    },
    {
     "name": "stderr",
     "output_type": "stream",
     "text": [
      "C:\\Users\\Daniel\\AppData\\Local\\Temp\\ipykernel_11044\\1068944800.py:7: VisibleDeprecationWarning: Creating an ndarray from ragged nested sequences (which is a list-or-tuple of lists-or-tuples-or ndarrays with different lengths or shapes) is deprecated. If you meant to do this, you must specify 'dtype=object' when creating the ndarray.\n",
      "  print(\"\\n\"*2, np.array(board_array))\n"
     ]
    }
   ],
   "source": [
    "for i in range(1,10):\n",
    "    for j in range(1,10):\n",
    "        for k in range(1,10):\n",
    "            if isinstance(board_array[j-1][k-1], list) and len(board_array[j-1][k-1]) == 1:\n",
    "                board_array[j-1][k-1] = board_array[j-1][k-1][0]\n",
    "                \n",
    "print(\"\\n\"*2, np.array(board_array))"
   ]
  },
  {
   "cell_type": "code",
   "execution_count": 38,
   "id": "d7db9ea6",
   "metadata": {},
   "outputs": [
    {
     "name": "stdout",
     "output_type": "stream",
     "text": [
      "\n",
      "\n",
      " [[5 2 8 4 6 7 3 1 9]\n",
      " [9 6 3 8 1 5 4 2 7]\n",
      " [1 7 4 2 9 3 5 8 6]\n",
      " [2 3 1 9 7 6 8 5 4]\n",
      " [8 5 7 1 2 4 6 9 3]\n",
      " [4 9 6 3 5 8 1 7 2]\n",
      " [3 4 5 7 8 9 2 6 1]\n",
      " [7 8 2 6 4 1 9 3 5]\n",
      " [6 1 9 5 list([3]) 2 7 4 8]]\n"
     ]
    },
    {
     "name": "stderr",
     "output_type": "stream",
     "text": [
      "C:\\Users\\Daniel\\AppData\\Local\\Temp\\ipykernel_11044\\2497966789.py:4: VisibleDeprecationWarning: Creating an ndarray from ragged nested sequences (which is a list-or-tuple of lists-or-tuples-or ndarrays with different lengths or shapes) is deprecated. If you meant to do this, you must specify 'dtype=object' when creating the ndarray.\n",
      "  if i in board_array[j-1] or i in np.array(board_array)[:,k-1]:\n",
      "C:\\Users\\Daniel\\AppData\\Local\\Temp\\ipykernel_11044\\2497966789.py:8: VisibleDeprecationWarning: Creating an ndarray from ragged nested sequences (which is a list-or-tuple of lists-or-tuples-or ndarrays with different lengths or shapes) is deprecated. If you meant to do this, you must specify 'dtype=object' when creating the ndarray.\n",
      "  print(\"\\n\"*2, np.array(board_array))\n"
     ]
    }
   ],
   "source": [
    "for i in range(1,10):\n",
    "    for j in range(1,10):\n",
    "        for k in range(1,10):\n",
    "            if i in board_array[j-1] or i in np.array(board_array)[:,k-1]:\n",
    "                if isinstance(board_array[j-1][k-1],list) and i in board_array[j-1][k-1]:\n",
    "                    board_array[j-1][k-1].remove(i)\n",
    "                    \n",
    "print(\"\\n\"*2, np.array(board_array))"
   ]
  },
  {
   "cell_type": "code",
   "execution_count": 39,
   "id": "297e1546",
   "metadata": {},
   "outputs": [
    {
     "name": "stdout",
     "output_type": "stream",
     "text": [
      "\n",
      "\n",
      " [[5 2 8 4 6 7 3 1 9]\n",
      " [9 6 3 8 1 5 4 2 7]\n",
      " [1 7 4 2 9 3 5 8 6]\n",
      " [2 3 1 9 7 6 8 5 4]\n",
      " [8 5 7 1 2 4 6 9 3]\n",
      " [4 9 6 3 5 8 1 7 2]\n",
      " [3 4 5 7 8 9 2 6 1]\n",
      " [7 8 2 6 4 1 9 3 5]\n",
      " [6 1 9 5 3 2 7 4 8]]\n"
     ]
    }
   ],
   "source": [
    "for i in range(1,10):\n",
    "    for j in range(1,10):\n",
    "        for k in range(1,10):\n",
    "            if isinstance(board_array[j-1][k-1], list) and len(board_array[j-1][k-1]) == 1:\n",
    "                board_array[j-1][k-1] = board_array[j-1][k-1][0]\n",
    "                \n",
    "print(\"\\n\"*2, np.array(board_array))"
   ]
  },
  {
   "cell_type": "code",
   "execution_count": null,
   "id": "743c8c3b",
   "metadata": {},
   "outputs": [],
   "source": []
  },
  {
   "cell_type": "markdown",
   "id": "cb6b24af",
   "metadata": {},
   "source": [
    "# IT WORKED!"
   ]
  },
  {
   "cell_type": "code",
   "execution_count": null,
   "id": "b83e80ce",
   "metadata": {},
   "outputs": [],
   "source": []
  },
  {
   "cell_type": "code",
   "execution_count": null,
   "id": "e1d66982",
   "metadata": {},
   "outputs": [],
   "source": []
  },
  {
   "cell_type": "code",
   "execution_count": null,
   "id": "8d6d6791",
   "metadata": {},
   "outputs": [],
   "source": []
  }
 ],
 "metadata": {
  "kernelspec": {
   "display_name": "Python 3 (ipykernel)",
   "language": "python",
   "name": "python3"
  },
  "language_info": {
   "codemirror_mode": {
    "name": "ipython",
    "version": 3
   },
   "file_extension": ".py",
   "mimetype": "text/x-python",
   "name": "python",
   "nbconvert_exporter": "python",
   "pygments_lexer": "ipython3",
   "version": "3.9.12"
  }
 },
 "nbformat": 4,
 "nbformat_minor": 5
}
